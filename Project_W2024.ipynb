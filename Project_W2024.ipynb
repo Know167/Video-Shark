{
 "cells": [
  {
   "cell_type": "markdown",
   "metadata": {},
   "source": [
    "## 1. Transcribing the videos\n",
    " ([Go to top](#Capstone-8:-Bringing-It-All-Together))\n",
    "\n",
    "Use this section to implement your solution to transcribe the videos. "
   ]
  },
  {
   "cell_type": "code",
   "execution_count": 1,
   "metadata": {
    "tags": []
   },
   "outputs": [
    {
     "name": "stdout",
     "output_type": "stream",
     "text": [
      "Collecting moviepy\n",
      "  Downloading moviepy-1.0.3.tar.gz (388 kB)\n",
      "\u001b[2K     \u001b[90m━━━━━━━━━━━━━━━━━━━━━━━━━━━━━━━━━━━━━━━\u001b[0m \u001b[32m388.3/388.3 kB\u001b[0m \u001b[31m9.3 MB/s\u001b[0m eta \u001b[36m0:00:00\u001b[0m00:01\u001b[0m\n",
      "\u001b[?25h  Preparing metadata (setup.py) ... \u001b[?25ldone\n",
      "\u001b[?25hCollecting SpeechRecognition\n",
      "  Downloading SpeechRecognition-3.10.3-py2.py3-none-any.whl.metadata (29 kB)\n",
      "Collecting mutagen\n",
      "  Downloading mutagen-1.47.0-py3-none-any.whl.metadata (1.7 kB)\n",
      "Collecting decorator<5.0,>=4.0.2 (from moviepy)\n",
      "  Downloading decorator-4.4.2-py2.py3-none-any.whl.metadata (4.2 kB)\n",
      "Requirement already satisfied: tqdm<5.0,>=4.11.2 in /home/ec2-user/anaconda3/envs/python3/lib/python3.10/site-packages (from moviepy) (4.66.2)\n",
      "Requirement already satisfied: requests<3.0,>=2.8.1 in /home/ec2-user/anaconda3/envs/python3/lib/python3.10/site-packages (from moviepy) (2.31.0)\n",
      "Collecting proglog<=1.0.0 (from moviepy)\n",
      "  Downloading proglog-0.1.10-py3-none-any.whl.metadata (639 bytes)\n",
      "Requirement already satisfied: numpy>=1.17.3 in /home/ec2-user/anaconda3/envs/python3/lib/python3.10/site-packages (from moviepy) (1.22.4)\n",
      "Requirement already satisfied: imageio<3.0,>=2.5 in /home/ec2-user/anaconda3/envs/python3/lib/python3.10/site-packages (from moviepy) (2.34.0)\n",
      "Collecting imageio_ffmpeg>=0.2.0 (from moviepy)\n",
      "  Downloading imageio_ffmpeg-0.4.9-py3-none-manylinux2010_x86_64.whl.metadata (1.7 kB)\n",
      "Requirement already satisfied: typing-extensions in /home/ec2-user/anaconda3/envs/python3/lib/python3.10/site-packages (from SpeechRecognition) (4.9.0)\n",
      "Requirement already satisfied: pillow>=8.3.2 in /home/ec2-user/anaconda3/envs/python3/lib/python3.10/site-packages (from imageio<3.0,>=2.5->moviepy) (10.2.0)\n",
      "Requirement already satisfied: setuptools in /home/ec2-user/anaconda3/envs/python3/lib/python3.10/site-packages (from imageio_ffmpeg>=0.2.0->moviepy) (69.1.0)\n",
      "Requirement already satisfied: charset-normalizer<4,>=2 in /home/ec2-user/anaconda3/envs/python3/lib/python3.10/site-packages (from requests<3.0,>=2.8.1->moviepy) (3.3.2)\n",
      "Requirement already satisfied: idna<4,>=2.5 in /home/ec2-user/anaconda3/envs/python3/lib/python3.10/site-packages (from requests<3.0,>=2.8.1->moviepy) (3.6)\n",
      "Requirement already satisfied: urllib3<3,>=1.21.1 in /home/ec2-user/anaconda3/envs/python3/lib/python3.10/site-packages (from requests<3.0,>=2.8.1->moviepy) (2.0.7)\n",
      "Requirement already satisfied: certifi>=2017.4.17 in /home/ec2-user/anaconda3/envs/python3/lib/python3.10/site-packages (from requests<3.0,>=2.8.1->moviepy) (2024.2.2)\n",
      "Downloading SpeechRecognition-3.10.3-py2.py3-none-any.whl (32.8 MB)\n",
      "\u001b[2K   \u001b[90m━━━━━━━━━━━━━━━━━━━━━━━━━━━━━━━━━━━━━━━━\u001b[0m \u001b[32m32.8/32.8 MB\u001b[0m \u001b[31m18.9 MB/s\u001b[0m eta \u001b[36m0:00:00\u001b[0m:00:01\u001b[0m00:01\u001b[0m\n",
      "\u001b[?25hDownloading mutagen-1.47.0-py3-none-any.whl (194 kB)\n",
      "\u001b[2K   \u001b[90m━━━━━━━━━━━━━━━━━━━━━━━━━━━━━━━━━━━━━━━━\u001b[0m \u001b[32m194.4/194.4 kB\u001b[0m \u001b[31m4.6 MB/s\u001b[0m eta \u001b[36m0:00:00\u001b[0mta \u001b[36m0:00:01\u001b[0m\n",
      "\u001b[?25hDownloading decorator-4.4.2-py2.py3-none-any.whl (9.2 kB)\n",
      "Downloading imageio_ffmpeg-0.4.9-py3-none-manylinux2010_x86_64.whl (26.9 MB)\n",
      "\u001b[2K   \u001b[90m━━━━━━━━━━━━━━━━━━━━━━━━━━━━━━━━━━━━━━━━\u001b[0m \u001b[32m26.9/26.9 MB\u001b[0m \u001b[31m16.2 MB/s\u001b[0m eta \u001b[36m0:00:00\u001b[0m:00:01\u001b[0m00:01\u001b[0m\n",
      "\u001b[?25hDownloading proglog-0.1.10-py3-none-any.whl (6.1 kB)\n",
      "Building wheels for collected packages: moviepy\n",
      "  Building wheel for moviepy (setup.py) ... \u001b[?25ldone\n",
      "\u001b[?25h  Created wheel for moviepy: filename=moviepy-1.0.3-py3-none-any.whl size=110720 sha256=b9e0577267aca116443766cfd62bf53c2e4ccbdd45d9f4eebe880d447cc1e6f4\n",
      "  Stored in directory: /home/ec2-user/.cache/pip/wheels/96/32/2d/e10123bd88fbfc02fed53cc18c80a171d3c87479ed845fa7c1\n",
      "Successfully built moviepy\n",
      "Installing collected packages: proglog, mutagen, imageio_ffmpeg, decorator, SpeechRecognition, moviepy\n",
      "  Attempting uninstall: decorator\n",
      "    Found existing installation: decorator 5.1.1\n",
      "    Uninstalling decorator-5.1.1:\n",
      "      Successfully uninstalled decorator-5.1.1\n",
      "\u001b[31mERROR: pip's dependency resolver does not currently take into account all the packages that are installed. This behaviour is the source of the following dependency conflicts.\n",
      "sparkmagic 0.21.0 requires pandas<2.0.0,>=0.17.1, but you have pandas 2.2.0 which is incompatible.\u001b[0m\u001b[31m\n",
      "\u001b[0mSuccessfully installed SpeechRecognition-3.10.3 decorator-4.4.2 imageio_ffmpeg-0.4.9 moviepy-1.0.3 mutagen-1.47.0 proglog-0.1.10\n"
     ]
    }
   ],
   "source": [
    "!pip install moviepy SpeechRecognition mutagen"
   ]
  },
  {
   "cell_type": "code",
   "execution_count": 2,
   "metadata": {
    "tags": []
   },
   "outputs": [],
   "source": [
    "prefix = 'CUR-TF-200-ACMNLP-1/video/'\n",
    "bucket_name = 'your-bucket-name'"
   ]
  },
  {
   "cell_type": "code",
   "execution_count": 3,
   "metadata": {
    "tags": []
   },
   "outputs": [
    {
     "name": "stderr",
     "output_type": "stream",
     "text": [
      "Matplotlib is building the font cache; this may take a moment.\n"
     ]
    }
   ],
   "source": [
    "import boto3\n",
    "import io\n",
    "import os\n",
    "from moviepy.editor import VideoFileClip\n",
    "import speech_recognition as sr\n",
    "from urllib.request import urlopen"
   ]
  },
  {
   "cell_type": "code",
   "execution_count": 4,
   "metadata": {
    "tags": []
   },
   "outputs": [],
   "source": [
    "def generate_presigned_urls(s3_client, bucket_name, prefix, external_bucket=False):\n",
    "\n",
    "    response = s3_client.list_objects_v2(Bucket = bucket_name, Prefix=prefix)\n",
    "    presigned_urls = []\n",
    "    obj_keys = []\n",
    "\n",
    "    for item in response.get('Contents', []):\n",
    "        file_key = item['Key']\n",
    "        presigned_url = s3_client.generate_presigned_url(\n",
    "            ClientMethod='get_object',\n",
    "            Params={'Bucket': bucket_name, 'Key': file_key},\n",
    "            ExpiresIn=3600\n",
    "            )\n",
    "        presigned_urls.append(presigned_url)\n",
    "        obj_keys.append(file_key)\n",
    "    # obj_keys.pop(0)\n",
    "    # presigned_urls.pop(0)\n",
    "    return [presigned_urls, obj_keys]"
   ]
  },
  {
   "cell_type": "markdown",
   "metadata": {},
   "source": [
    "# CONVERTING MP4 TO WAV"
   ]
  },
  {
   "cell_type": "code",
   "execution_count": null,
   "metadata": {
    "tags": []
   },
   "outputs": [],
   "source": [
    "s3_client = boto3.client('s3')\n",
    "presigned_urls_mp4, obj_keys_mp4 = generate_presigned_urls(s3_client, bucket_name, prefix)\n",
    "print(presigned_urls_mp4)"
   ]
  },
  {
   "cell_type": "code",
   "execution_count": 6,
   "metadata": {
    "tags": []
   },
   "outputs": [],
   "source": [
    "def mp4_to_wav(url, obj_key):\n",
    "    obj_key = obj_key.replace(' ', '_')\n",
    "    obj_key = obj_key.split('/')\n",
    "    # print(obj_key)\n",
    "    output_filename = f'audio/{obj_key[-1][:-4]}.wav'\n",
    "    # print(output_filename)\n",
    "    video_clip = VideoFileClip(url)\n",
    "    video_clip.audio.write_audiofile(output_filename)\n",
    "    print(f\"Successfully converted {obj_key} to {output_filename}\")"
   ]
  },
  {
   "cell_type": "code",
   "execution_count": 10,
   "metadata": {
    "tags": []
   },
   "outputs": [
    {
     "name": "stderr",
     "output_type": "stream",
     "text": [
      "chunk:  10%|▉         | 1352/14114 [02:49<05:36, 37.97it/s, now=None]"
     ]
    },
    {
     "name": "stdout",
     "output_type": "stream",
     "text": [
      "MoviePy - Writing audio in audio/Mod03_Sect07_part2.wav\n"
     ]
    },
    {
     "name": "stderr",
     "output_type": "stream",
     "text": [
      "\n",
      "chunk:   0%|          | 0/4301 [00:00<?, ?it/s, now=None]\u001b[A\n",
      "chunk:   2%|▏         | 102/4301 [00:00<00:33, 125.85it/s, now=None]\u001b[A\n",
      "chunk:   4%|▎         | 153/4301 [00:01<00:32, 127.88it/s, now=None]\u001b[A\n",
      "chunk:   5%|▍         | 204/4301 [00:01<00:42, 96.51it/s, now=None] \u001b[A\n",
      "chunk:   6%|▌         | 255/4301 [00:03<01:06, 61.21it/s, now=None]\u001b[A\n",
      "chunk:   7%|▋         | 306/4301 [00:03<00:52, 75.48it/s, now=None]\u001b[A\n",
      "chunk:   8%|▊         | 357/4301 [00:04<00:56, 70.06it/s, now=None]\u001b[A\n",
      "chunk:   9%|▉         | 408/4301 [00:05<01:04, 60.29it/s, now=None]\u001b[A\n",
      "chunk:  11%|█         | 459/4301 [00:06<01:07, 56.77it/s, now=None]\u001b[A\n",
      "chunk:  12%|█▏        | 510/4301 [00:07<01:00, 62.51it/s, now=None]\u001b[A\n",
      "chunk:  13%|█▎        | 561/4301 [00:07<00:51, 72.14it/s, now=None]\u001b[A\n",
      "chunk:  14%|█▍        | 612/4301 [00:09<01:04, 56.79it/s, now=None]\u001b[A\n",
      "chunk:  15%|█▌        | 663/4301 [00:10<01:18, 46.53it/s, now=None]\u001b[A\n",
      "chunk:  17%|█▋        | 714/4301 [00:10<00:59, 59.83it/s, now=None]\u001b[A\n",
      "chunk:  18%|█▊        | 765/4301 [00:12<01:04, 55.24it/s, now=None]\u001b[A\n",
      "chunk:  19%|█▉        | 816/4301 [00:13<01:08, 50.85it/s, now=None]\u001b[A\n",
      "chunk:  20%|██        | 867/4301 [00:14<01:12, 47.67it/s, now=None]\u001b[A\n",
      "chunk:  21%|██▏       | 918/4301 [00:15<01:12, 46.46it/s, now=None]\u001b[A\n",
      "chunk:  23%|██▎       | 969/4301 [00:15<00:52, 63.44it/s, now=None]\u001b[A\n",
      "chunk:  24%|██▎       | 1020/4301 [00:16<01:00, 54.11it/s, now=None]\u001b[A\n",
      "chunk:  25%|██▍       | 1071/4301 [00:18<01:01, 52.35it/s, now=None]\u001b[A\n",
      "chunk:  26%|██▌       | 1122/4301 [00:19<01:07, 47.32it/s, now=None]\u001b[A\n",
      "chunk:  27%|██▋       | 1173/4301 [00:19<00:53, 58.21it/s, now=None]\u001b[A\n",
      "chunk:  28%|██▊       | 1224/4301 [00:20<00:54, 56.29it/s, now=None]\u001b[A\n",
      "chunk:  30%|██▉       | 1275/4301 [00:21<00:52, 57.78it/s, now=None]\u001b[A\n",
      "chunk:  31%|███       | 1326/4301 [00:21<00:38, 77.89it/s, now=None]\u001b[A\n",
      "chunk:  33%|███▎      | 1428/4301 [00:22<00:31, 91.44it/s, now=None]\u001b[A\n",
      "chunk:  34%|███▍      | 1479/4301 [00:22<00:28, 98.08it/s, now=None]\u001b[A\n",
      "chunk:  37%|███▋      | 1581/4301 [00:23<00:17, 156.65it/s, now=None]\u001b[A\n",
      "chunk:  38%|███▊      | 1632/4301 [00:23<00:20, 130.28it/s, now=None]\u001b[A\n",
      "chunk:  39%|███▉      | 1683/4301 [00:23<00:17, 149.78it/s, now=None]\u001b[A\n",
      "chunk:  40%|████      | 1734/4301 [00:23<00:14, 179.85it/s, now=None]\u001b[A\n",
      "chunk:  44%|████▍     | 1887/4301 [00:25<00:16, 148.12it/s, now=None]\u001b[A\n",
      "chunk:  45%|████▌     | 1938/4301 [00:25<00:13, 169.16it/s, now=None]\u001b[A\n",
      "chunk:  49%|████▊     | 2091/4301 [00:26<00:15, 138.27it/s, now=None]\u001b[A\n",
      "chunk:  50%|████▉     | 2142/4301 [00:26<00:13, 157.22it/s, now=None]\u001b[A\n",
      "chunk:  52%|█████▏    | 2244/4301 [00:26<00:09, 218.72it/s, now=None]\u001b[A\n",
      "chunk:  53%|█████▎    | 2295/4301 [00:27<00:14, 139.15it/s, now=None]\u001b[A\n",
      "chunk:  55%|█████▍    | 2346/4301 [00:28<00:15, 123.59it/s, now=None]\u001b[A\n",
      "chunk:  57%|█████▋    | 2448/4301 [00:28<00:10, 183.88it/s, now=None]\u001b[A\n",
      "chunk:  58%|█████▊    | 2499/4301 [00:28<00:10, 164.37it/s, now=None]\u001b[A\n",
      "chunk:  59%|█████▉    | 2550/4301 [00:29<00:14, 122.88it/s, now=None]\u001b[A\n",
      "chunk:  60%|██████    | 2601/4301 [00:30<00:21, 80.69it/s, now=None] \u001b[A\n",
      "chunk:  62%|██████▏   | 2652/4301 [00:32<00:25, 63.69it/s, now=None]\u001b[A\n",
      "chunk:  63%|██████▎   | 2703/4301 [00:33<00:28, 56.79it/s, now=None]\u001b[A\n",
      "chunk:  64%|██████▍   | 2754/4301 [00:33<00:20, 75.02it/s, now=None]\u001b[A\n",
      "chunk:  65%|██████▌   | 2805/4301 [00:34<00:19, 75.11it/s, now=None]\u001b[A\n",
      "chunk:  66%|██████▋   | 2856/4301 [00:34<00:14, 99.15it/s, now=None]\u001b[A\n",
      "chunk:  70%|██████▉   | 3009/4301 [00:34<00:08, 157.74it/s, now=None]\u001b[A\n",
      "chunk:  71%|███████   | 3060/4301 [00:36<00:13, 89.93it/s, now=None] \u001b[A\n",
      "chunk:  72%|███████▏  | 3111/4301 [00:37<00:14, 83.74it/s, now=None]\u001b[A\n",
      "chunk:  74%|███████▎  | 3162/4301 [00:37<00:12, 89.21it/s, now=None]\u001b[A\n",
      "chunk:  75%|███████▍  | 3213/4301 [00:38<00:14, 73.05it/s, now=None]\u001b[A\n",
      "chunk:  76%|███████▌  | 3264/4301 [00:38<00:12, 82.10it/s, now=None]\u001b[A\n",
      "chunk:  78%|███████▊  | 3366/4301 [00:39<00:06, 136.98it/s, now=None]\u001b[A\n",
      "chunk:  79%|███████▉  | 3417/4301 [00:39<00:07, 123.55it/s, now=None]\u001b[A\n",
      "chunk:  81%|████████  | 3468/4301 [00:40<00:07, 111.83it/s, now=None]\u001b[A\n",
      "chunk:  82%|████████▏ | 3519/4301 [00:40<00:05, 133.70it/s, now=None]\u001b[A\n",
      "chunk:  83%|████████▎ | 3570/4301 [00:41<00:09, 73.81it/s, now=None] \u001b[A\n",
      "chunk:  84%|████████▍ | 3621/4301 [00:43<00:11, 60.76it/s, now=None]\u001b[A\n",
      "chunk:  85%|████████▌ | 3672/4301 [00:44<00:13, 46.70it/s, now=None]\u001b[A\n",
      "chunk:  87%|████████▋ | 3723/4301 [00:45<00:11, 51.12it/s, now=None]\u001b[A\n",
      "chunk:  88%|████████▊ | 3774/4301 [00:47<00:11, 45.02it/s, now=None]\u001b[A\n",
      "chunk:  89%|████████▉ | 3825/4301 [00:48<00:10, 43.50it/s, now=None]\u001b[A\n",
      "chunk:  90%|█████████ | 3876/4301 [00:49<00:10, 42.25it/s, now=None]\u001b[A\n",
      "chunk:  91%|█████████▏| 3927/4301 [00:50<00:08, 43.32it/s, now=None]\u001b[A\n",
      "chunk:  92%|█████████▏| 3978/4301 [00:51<00:06, 52.15it/s, now=None]\u001b[A\n",
      "chunk:  94%|█████████▎| 4029/4301 [00:52<00:05, 48.93it/s, now=None]\u001b[A\n",
      "chunk:  95%|█████████▍| 4080/4301 [00:53<00:04, 48.14it/s, now=None]\u001b[A\n",
      "chunk:  96%|█████████▌| 4131/4301 [00:54<00:03, 45.37it/s, now=None]\u001b[A\n",
      "chunk:  97%|█████████▋| 4182/4301 [00:56<00:02, 42.55it/s, now=None]\u001b[A\n",
      "chunk:  98%|█████████▊| 4233/4301 [00:57<00:01, 41.25it/s, now=None]\u001b[A\n",
      "chunk: 100%|█████████▉| 4284/4301 [00:57<00:00, 56.57it/s, now=None]\u001b[A\n",
      "chunk:  10%|▉         | 1352/14114 [03:47<05:36, 37.97it/s, now=None][A"
     ]
    },
    {
     "name": "stdout",
     "output_type": "stream",
     "text": [
      "MoviePy - Done.\n",
      "Successfully converted ['CUR-TF-200-ACMNLP-1', 'video', 'Mod03_Sect07_part2.mp4'] to audio/Mod03_Sect07_part2.wav\n"
     ]
    },
    {
     "name": "stderr",
     "output_type": "stream",
     "text": [
      "chunk:  10%|▉         | 1352/14114 [03:52<05:36, 37.97it/s, now=None]"
     ]
    },
    {
     "name": "stdout",
     "output_type": "stream",
     "text": [
      "MoviePy - Writing audio in audio/Mod03_Sect07_part3.wav\n"
     ]
    },
    {
     "name": "stderr",
     "output_type": "stream",
     "text": [
      "\n",
      "chunk:   0%|          | 0/10802 [00:00<?, ?it/s, now=None]\u001b[A\n",
      "chunk:   1%|          | 102/10802 [00:02<03:39, 48.65it/s, now=None]\u001b[A\n",
      "chunk:   1%|▏         | 153/10802 [00:04<05:25, 32.69it/s, now=None]\u001b[A\n",
      "chunk:   2%|▏         | 204/10802 [00:06<06:16, 28.14it/s, now=None]\u001b[A\n",
      "chunk:   2%|▏         | 255/10802 [00:08<06:33, 26.83it/s, now=None]\u001b[A\n",
      "chunk:   3%|▎         | 306/10802 [00:10<06:42, 26.07it/s, now=None]\u001b[A\n",
      "chunk:   3%|▎         | 357/10802 [00:13<07:03, 24.67it/s, now=None]\u001b[A\n",
      "chunk:   4%|▍         | 408/10802 [00:15<07:09, 24.20it/s, now=None]\u001b[A\n",
      "chunk:   4%|▍         | 459/10802 [00:16<06:43, 25.65it/s, now=None]\u001b[A\n",
      "chunk:   5%|▍         | 510/10802 [00:19<06:58, 24.61it/s, now=None]\u001b[A\n",
      "chunk:   5%|▌         | 561/10802 [00:21<06:55, 24.68it/s, now=None]\u001b[A\n",
      "chunk:   6%|▌         | 612/10802 [00:23<06:53, 24.63it/s, now=None]\u001b[A\n",
      "chunk:   6%|▌         | 663/10802 [00:25<06:58, 24.21it/s, now=None]\u001b[A\n",
      "chunk:   7%|▋         | 714/10802 [00:27<07:07, 23.58it/s, now=None]\u001b[A\n",
      "chunk:   7%|▋         | 765/10802 [00:30<07:22, 22.66it/s, now=None]\u001b[A\n",
      "chunk:   8%|▊         | 816/10802 [00:32<07:20, 22.64it/s, now=None]\u001b[A\n",
      "chunk:   8%|▊         | 867/10802 [00:34<07:19, 22.59it/s, now=None]\u001b[A\n",
      "chunk:   8%|▊         | 918/10802 [00:36<07:09, 23.03it/s, now=None]\u001b[A\n",
      "chunk:   9%|▉         | 969/10802 [00:38<06:54, 23.71it/s, now=None]\u001b[A\n",
      "chunk:   9%|▉         | 1020/10802 [00:41<06:52, 23.69it/s, now=None]\u001b[A\n",
      "chunk:  10%|▉         | 1071/10802 [00:43<06:37, 24.48it/s, now=None]\u001b[A\n",
      "chunk:  10%|█         | 1122/10802 [00:44<05:56, 27.12it/s, now=None]\u001b[A\n",
      "chunk:  11%|█▏        | 1224/10802 [00:44<03:15, 49.05it/s, now=None]\u001b[A\n",
      "chunk:  13%|█▎        | 1419/10802 [00:44<01:27, 107.47it/s, now=None]\u001b[A\n",
      "chunk:  15%|█▍        | 1588/10802 [00:44<00:52, 173.95it/s, now=None]\u001b[A\n",
      "chunk:  16%|█▌        | 1729/10802 [00:44<00:37, 243.97it/s, now=None]\u001b[A\n",
      "chunk:  17%|█▋        | 1890/10802 [00:44<00:25, 346.18it/s, now=None]\u001b[A\n",
      "chunk:  19%|█▉        | 2090/10802 [00:45<00:17, 505.92it/s, now=None]\u001b[A\n",
      "chunk:  21%|██        | 2271/10802 [00:45<00:12, 663.76it/s, now=None]\u001b[A\n",
      "chunk:  23%|██▎       | 2431/10802 [00:45<00:11, 750.92it/s, now=None]\u001b[A\n",
      "chunk:  24%|██▍       | 2608/10802 [00:45<00:08, 918.80it/s, now=None]\u001b[A\n",
      "chunk:  26%|██▌       | 2801/10802 [00:45<00:07, 1110.68it/s, now=None]\u001b[A\n",
      "chunk:  28%|██▊       | 2980/10802 [00:45<00:06, 1255.57it/s, now=None]\u001b[A\n",
      "chunk:  29%|██▉       | 3154/10802 [00:45<00:05, 1365.11it/s, now=None]\u001b[A\n",
      "chunk:  31%|███       | 3325/10802 [00:45<00:05, 1336.33it/s, now=None]\u001b[A\n",
      "chunk:  32%|███▏      | 3483/10802 [00:45<00:05, 1391.76it/s, now=None]\u001b[A\n",
      "chunk:  34%|███▍      | 3672/10802 [00:46<00:04, 1500.43it/s, now=None]\u001b[A\n",
      "chunk:  36%|███▌      | 3836/10802 [00:46<00:04, 1530.99it/s, now=None]\u001b[A\n",
      "chunk:  37%|███▋      | 3999/10802 [00:46<00:04, 1510.36it/s, now=None]\u001b[A\n",
      "chunk:  38%|███▊      | 4157/10802 [00:52<01:17, 85.61it/s, now=None]  \u001b[A\n",
      "chunk:  40%|███▉      | 4269/10802 [00:56<01:56, 56.26it/s, now=None]\u001b[A\n",
      "chunk:  40%|████      | 4348/10802 [01:01<02:42, 39.74it/s, now=None]\u001b[A\n",
      "chunk:  41%|████      | 4404/10802 [01:03<03:01, 35.29it/s, now=None]\u001b[A\n",
      "chunk:  41%|████      | 4444/10802 [01:06<03:29, 30.36it/s, now=None]\u001b[A\n",
      "chunk:  42%|████▏     | 4488/10802 [01:08<03:52, 27.21it/s, now=None]\u001b[A\n",
      "chunk:  42%|████▏     | 4539/10802 [01:11<04:01, 25.92it/s, now=None]\u001b[A\n",
      "chunk:  42%|████▏     | 4590/10802 [01:13<04:08, 24.98it/s, now=None]\u001b[A\n",
      "chunk:  43%|████▎     | 4641/10802 [01:15<04:10, 24.56it/s, now=None]\u001b[A\n",
      "chunk:  43%|████▎     | 4692/10802 [01:17<04:11, 24.25it/s, now=None]\u001b[A\n",
      "chunk:  44%|████▍     | 4743/10802 [01:19<04:14, 23.84it/s, now=None]\u001b[A\n",
      "chunk:  44%|████▍     | 4794/10802 [01:22<04:11, 23.89it/s, now=None]\u001b[A\n",
      "chunk:  45%|████▍     | 4845/10802 [01:24<04:09, 23.88it/s, now=None]\u001b[A\n",
      "chunk:  45%|████▌     | 4896/10802 [01:26<04:09, 23.67it/s, now=None]\u001b[A\n",
      "chunk:  46%|████▌     | 4947/10802 [01:28<04:06, 23.76it/s, now=None]\u001b[A\n",
      "chunk:  46%|████▋     | 4998/10802 [01:30<03:54, 24.80it/s, now=None]\u001b[A\n",
      "chunk:  47%|████▋     | 5049/10802 [01:32<03:49, 25.01it/s, now=None]\u001b[A\n",
      "chunk:  47%|████▋     | 5100/10802 [01:34<03:51, 24.66it/s, now=None]\u001b[A\n",
      "chunk:  48%|████▊     | 5151/10802 [01:36<03:56, 23.88it/s, now=None]\u001b[A\n",
      "chunk:  48%|████▊     | 5202/10802 [01:38<03:58, 23.52it/s, now=None]\u001b[A\n",
      "chunk:  49%|████▊     | 5253/10802 [01:41<03:58, 23.31it/s, now=None]\u001b[A\n",
      "chunk:  49%|████▉     | 5304/10802 [01:43<04:02, 22.71it/s, now=None]\u001b[A\n",
      "chunk:  50%|████▉     | 5355/10802 [01:46<04:05, 22.23it/s, now=None]\u001b[A\n",
      "chunk:  50%|█████     | 5406/10802 [01:48<04:01, 22.34it/s, now=None]\u001b[A\n",
      "chunk:  51%|█████     | 5457/10802 [01:50<03:58, 22.43it/s, now=None]\u001b[A\n",
      "chunk:  51%|█████     | 5508/10802 [01:52<03:48, 23.18it/s, now=None]\u001b[A\n",
      "chunk:  51%|█████▏    | 5559/10802 [01:54<03:40, 23.81it/s, now=None]\u001b[A\n",
      "chunk:  52%|█████▏    | 5610/10802 [01:56<03:35, 24.09it/s, now=None]\u001b[A\n",
      "chunk:  52%|█████▏    | 5661/10802 [01:58<03:32, 24.18it/s, now=None]\u001b[A\n",
      "chunk:  53%|█████▎    | 5712/10802 [02:01<03:37, 23.40it/s, now=None]\u001b[A\n",
      "chunk:  53%|█████▎    | 5763/10802 [02:03<03:37, 23.16it/s, now=None]\u001b[A\n",
      "chunk:  54%|█████▍    | 5814/10802 [02:05<03:34, 23.27it/s, now=None]\u001b[A\n",
      "chunk:  54%|█████▍    | 5865/10802 [02:07<03:29, 23.58it/s, now=None]\u001b[A\n",
      "chunk:  55%|█████▍    | 5916/10802 [02:09<03:23, 24.06it/s, now=None]\u001b[A\n",
      "chunk:  55%|█████▌    | 5967/10802 [02:11<03:26, 23.42it/s, now=None]\u001b[A\n",
      "chunk:  56%|█████▌    | 6018/10802 [02:14<03:25, 23.23it/s, now=None]\u001b[A\n",
      "chunk:  56%|█████▌    | 6069/10802 [02:16<03:21, 23.55it/s, now=None]\u001b[A\n",
      "chunk:  57%|█████▋    | 6120/10802 [02:18<03:17, 23.66it/s, now=None]\u001b[A\n",
      "chunk:  57%|█████▋    | 6171/10802 [02:20<03:18, 23.38it/s, now=None]\u001b[A\n",
      "chunk:  58%|█████▊    | 6222/10802 [02:22<03:19, 23.01it/s, now=None]\u001b[A\n",
      "chunk:  58%|█████▊    | 6273/10802 [02:25<03:18, 22.80it/s, now=None]\u001b[A\n",
      "chunk:  59%|█████▊    | 6324/10802 [02:27<03:17, 22.64it/s, now=None]\u001b[A\n",
      "chunk:  59%|█████▉    | 6375/10802 [02:29<03:14, 22.72it/s, now=None]\u001b[A\n",
      "chunk:  59%|█████▉    | 6426/10802 [02:31<03:13, 22.61it/s, now=None]\u001b[A\n",
      "chunk:  60%|█████▉    | 6477/10802 [02:33<03:00, 23.95it/s, now=None]\u001b[A\n",
      "chunk:  60%|██████    | 6528/10802 [02:36<03:06, 22.90it/s, now=None]\u001b[A\n",
      "chunk:  61%|██████    | 6579/10802 [02:38<03:06, 22.63it/s, now=None]\u001b[A\n",
      "chunk:  61%|██████▏   | 6630/10802 [02:40<02:56, 23.59it/s, now=None]\u001b[A\n",
      "chunk:  62%|██████▏   | 6681/10802 [02:42<02:59, 22.97it/s, now=None]\u001b[A\n",
      "chunk:  62%|██████▏   | 6732/10802 [02:45<02:55, 23.18it/s, now=None]\u001b[A\n",
      "chunk:  63%|██████▎   | 6783/10802 [02:47<02:50, 23.51it/s, now=None]\u001b[A\n",
      "chunk:  63%|██████▎   | 6834/10802 [02:49<02:50, 23.30it/s, now=None]\u001b[A\n",
      "chunk:  64%|██████▎   | 6885/10802 [02:51<02:52, 22.73it/s, now=None]\u001b[A\n",
      "chunk:  64%|██████▍   | 6936/10802 [02:53<02:49, 22.88it/s, now=None]\u001b[A\n",
      "chunk:  65%|██████▍   | 6987/10802 [02:56<02:48, 22.64it/s, now=None]\u001b[A\n",
      "chunk:  65%|██████▌   | 7038/10802 [02:58<02:44, 22.91it/s, now=None]\u001b[A\n",
      "chunk:  66%|██████▌   | 7089/10802 [03:00<02:41, 23.00it/s, now=None]\u001b[A\n",
      "chunk:  66%|██████▌   | 7140/10802 [03:03<02:48, 21.71it/s, now=None]\u001b[A\n",
      "chunk:  67%|██████▋   | 7191/10802 [03:05<02:39, 22.63it/s, now=None]\u001b[A\n",
      "chunk:  67%|██████▋   | 7242/10802 [03:07<02:36, 22.75it/s, now=None]\u001b[A\n",
      "chunk:  68%|██████▊   | 7293/10802 [03:09<02:32, 23.03it/s, now=None]\u001b[A\n",
      "chunk:  68%|██████▊   | 7344/10802 [03:12<02:33, 22.50it/s, now=None]\u001b[A\n",
      "chunk:  68%|██████▊   | 7395/10802 [03:14<02:30, 22.70it/s, now=None]\u001b[A\n",
      "chunk:  69%|██████▉   | 7446/10802 [03:16<02:30, 22.37it/s, now=None]\u001b[A\n",
      "chunk:  69%|██████▉   | 7497/10802 [03:18<02:25, 22.65it/s, now=None]\u001b[A\n",
      "chunk:  70%|██████▉   | 7548/10802 [03:21<02:28, 21.96it/s, now=None]\u001b[A\n",
      "chunk:  70%|███████   | 7599/10802 [03:23<02:22, 22.52it/s, now=None]\u001b[A\n",
      "chunk:  71%|███████   | 7650/10802 [03:25<02:16, 23.14it/s, now=None]\u001b[A\n",
      "chunk:  71%|███████▏  | 7701/10802 [03:27<02:11, 23.58it/s, now=None]\u001b[A\n",
      "chunk:  72%|███████▏  | 7752/10802 [03:29<02:07, 23.92it/s, now=None]\u001b[A\n",
      "chunk:  72%|███████▏  | 7803/10802 [03:31<02:07, 23.60it/s, now=None]\u001b[A\n",
      "chunk:  73%|███████▎  | 7854/10802 [03:33<02:04, 23.65it/s, now=None]\u001b[A\n",
      "chunk:  73%|███████▎  | 7905/10802 [03:36<02:00, 24.06it/s, now=None]\u001b[A\n",
      "chunk:  74%|███████▎  | 7956/10802 [03:38<01:58, 24.12it/s, now=None]\u001b[A\n",
      "chunk:  74%|███████▍  | 8007/10802 [03:40<01:54, 24.36it/s, now=None]\u001b[A\n",
      "chunk:  75%|███████▍  | 8058/10802 [03:42<01:53, 24.20it/s, now=None]\u001b[A\n",
      "chunk:  75%|███████▌  | 8109/10802 [03:44<01:50, 24.43it/s, now=None]\u001b[A\n",
      "chunk:  76%|███████▌  | 8160/10802 [03:46<01:52, 23.42it/s, now=None]\u001b[A\n",
      "chunk:  76%|███████▌  | 8211/10802 [03:49<01:52, 22.96it/s, now=None]\u001b[A\n",
      "chunk:  76%|███████▋  | 8262/10802 [03:51<01:50, 22.95it/s, now=None]\u001b[A\n",
      "chunk:  77%|███████▋  | 8313/10802 [03:53<01:46, 23.44it/s, now=None]\u001b[A\n",
      "chunk:  77%|███████▋  | 8364/10802 [03:55<01:43, 23.65it/s, now=None]\u001b[A\n",
      "chunk:  78%|███████▊  | 8415/10802 [03:57<01:43, 23.06it/s, now=None]\u001b[A\n",
      "chunk:  78%|███████▊  | 8466/10802 [04:00<01:43, 22.65it/s, now=None]\u001b[A\n",
      "chunk:  79%|███████▉  | 8517/10802 [04:02<01:42, 22.21it/s, now=None]\u001b[A\n",
      "chunk:  79%|███████▉  | 8568/10802 [04:04<01:41, 22.10it/s, now=None]\u001b[A\n",
      "chunk:  80%|███████▉  | 8619/10802 [04:07<01:38, 22.17it/s, now=None]\u001b[A\n",
      "chunk:  80%|████████  | 8670/10802 [04:09<01:31, 23.22it/s, now=None]\u001b[A\n",
      "chunk:  81%|████████  | 8721/10802 [04:11<01:31, 22.70it/s, now=None]\u001b[A\n",
      "chunk:  81%|████████  | 8772/10802 [04:13<01:28, 22.97it/s, now=None]\u001b[A\n",
      "chunk:  82%|████████▏ | 8823/10802 [04:15<01:27, 22.73it/s, now=None]\u001b[A\n",
      "chunk:  82%|████████▏ | 8874/10802 [04:18<01:22, 23.23it/s, now=None]\u001b[A\n",
      "chunk:  83%|████████▎ | 8925/10802 [04:20<01:19, 23.72it/s, now=None]\u001b[A\n",
      "chunk:  83%|████████▎ | 8976/10802 [04:22<01:16, 23.92it/s, now=None]\u001b[A\n",
      "chunk:  84%|████████▎ | 9027/10802 [04:24<01:13, 24.15it/s, now=None]\u001b[A\n",
      "chunk:  84%|████████▍ | 9078/10802 [04:26<01:13, 23.48it/s, now=None]\u001b[A\n",
      "chunk:  85%|████████▍ | 9129/10802 [04:28<01:12, 23.01it/s, now=None]\u001b[A\n",
      "chunk:  85%|████████▍ | 9180/10802 [04:31<01:11, 22.76it/s, now=None]\u001b[A\n",
      "chunk:  85%|████████▌ | 9231/10802 [04:33<01:09, 22.76it/s, now=None]\u001b[A\n",
      "chunk:  86%|████████▌ | 9282/10802 [04:35<01:01, 24.79it/s, now=None]\u001b[A\n",
      "chunk:  86%|████████▋ | 9333/10802 [04:35<00:43, 33.77it/s, now=None]\u001b[A\n",
      "chunk:  87%|████████▋ | 9435/10802 [04:35<00:22, 60.97it/s, now=None]\u001b[A\n",
      "chunk:  89%|████████▉ | 9621/10802 [04:35<00:09, 129.17it/s, now=None]\u001b[A\n",
      "chunk:  90%|█████████ | 9760/10802 [04:35<00:05, 193.91it/s, now=None]\u001b[A\n",
      "chunk:  92%|█████████▏| 9956/10802 [04:35<00:02, 314.58it/s, now=None]\u001b[A\n",
      "chunk:  93%|█████████▎| 10084/10802 [04:37<00:04, 163.50it/s, now=None]\u001b[A\n",
      "chunk:  94%|█████████▍| 10176/10802 [04:38<00:04, 148.57it/s, now=None]\u001b[A\n",
      "chunk:  95%|█████████▍| 10244/10802 [04:38<00:03, 165.89it/s, now=None]\u001b[A\n",
      "chunk:  95%|█████████▌| 10301/10802 [04:38<00:02, 179.49it/s, now=None]\u001b[A\n",
      "chunk:  96%|█████████▌| 10350/10802 [04:38<00:02, 195.88it/s, now=None]\u001b[A\n",
      "chunk:  96%|█████████▌| 10394/10802 [04:40<00:04, 83.59it/s, now=None] \u001b[A\n",
      "chunk:  97%|█████████▋| 10426/10802 [04:42<00:08, 46.82it/s, now=None]\u001b[A\n",
      "chunk:  97%|█████████▋| 10455/10802 [04:44<00:10, 32.35it/s, now=None]\u001b[A\n",
      "chunk:  97%|█████████▋| 10506/10802 [04:47<00:10, 28.81it/s, now=None]\u001b[A\n",
      "chunk:  98%|█████████▊| 10557/10802 [04:49<00:09, 26.64it/s, now=None]\u001b[A\n",
      "chunk:  98%|█████████▊| 10608/10802 [04:51<00:07, 25.98it/s, now=None]\u001b[A\n",
      "chunk:  99%|█████████▊| 10659/10802 [04:53<00:05, 24.64it/s, now=None]\u001b[A\n",
      "chunk:  99%|█████████▉| 10710/10802 [04:56<00:03, 23.22it/s, now=None]\u001b[A\n",
      "chunk: 100%|█████████▉| 10761/10802 [04:57<00:01, 25.67it/s, now=None]\u001b[A\n",
      "chunk:  10%|▉         | 1352/14114 [08:50<05:36, 37.97it/s, now=None] \u001b[A"
     ]
    },
    {
     "name": "stdout",
     "output_type": "stream",
     "text": [
      "MoviePy - Done.\n",
      "Successfully converted ['CUR-TF-200-ACMNLP-1', 'video', 'Mod03_Sect07_part3.mp4'] to audio/Mod03_Sect07_part3.wav\n"
     ]
    },
    {
     "name": "stderr",
     "output_type": "stream",
     "text": [
      "chunk:  10%|▉         | 1352/14114 [08:55<05:36, 37.97it/s, now=None]"
     ]
    },
    {
     "name": "stdout",
     "output_type": "stream",
     "text": [
      "MoviePy - Writing audio in audio/Mod03_Sect08.wav\n"
     ]
    },
    {
     "name": "stderr",
     "output_type": "stream",
     "text": [
      "\n",
      "chunk:   0%|          | 0/10993 [00:00<?, ?it/s, now=None]\u001b[A\n",
      "chunk:   1%|▏         | 157/10993 [00:00<00:06, 1564.33it/s, now=None]\u001b[A\n",
      "chunk:   3%|▎         | 314/10993 [00:00<00:07, 1341.28it/s, now=None]\u001b[A\n",
      "chunk:   4%|▍         | 459/10993 [00:00<00:07, 1349.88it/s, now=None]\u001b[A\n",
      "chunk:   6%|▌         | 612/10993 [00:00<00:07, 1370.87it/s, now=None]\u001b[A\n",
      "chunk:   7%|▋         | 781/10993 [00:00<00:06, 1477.33it/s, now=None]\u001b[A\n",
      "chunk:   8%|▊         | 930/10993 [00:00<00:07, 1424.53it/s, now=None]\u001b[A\n",
      "chunk:  10%|▉         | 1074/10993 [00:00<00:07, 1339.15it/s, now=None]\u001b[A\n",
      "chunk:  11%|█         | 1221/10993 [00:00<00:07, 1376.86it/s, now=None]\u001b[A\n",
      "chunk:  13%|█▎        | 1377/10993 [00:00<00:06, 1413.16it/s, now=None]\u001b[A\n",
      "chunk:  14%|█▍        | 1545/10993 [00:01<00:06, 1491.30it/s, now=None]\u001b[A\n",
      "chunk:  15%|█▌        | 1696/10993 [00:01<00:06, 1441.63it/s, now=None]\u001b[A\n",
      "chunk:  17%|█▋        | 1842/10993 [00:01<00:06, 1367.14it/s, now=None]\u001b[A\n",
      "chunk:  18%|█▊        | 1989/10993 [00:01<00:06, 1340.55it/s, now=None]\u001b[A\n",
      "chunk:  20%|█▉        | 2161/10993 [00:01<00:06, 1444.75it/s, now=None]\u001b[A\n",
      "chunk:  21%|██        | 2316/10993 [00:01<00:05, 1473.57it/s, now=None]\u001b[A\n",
      "chunk:  22%|██▏       | 2465/10993 [00:01<00:06, 1390.19it/s, now=None]\u001b[A\n",
      "chunk:  24%|██▍       | 2615/10993 [00:01<00:05, 1419.88it/s, now=None]\u001b[A\n",
      "chunk:  25%|██▌       | 2762/10993 [00:01<00:05, 1432.66it/s, now=None]\u001b[A\n",
      "chunk:  26%|██▋       | 2907/10993 [00:02<00:05, 1435.20it/s, now=None]\u001b[A\n",
      "chunk:  28%|██▊       | 3052/10993 [00:02<00:05, 1430.71it/s, now=None]\u001b[A\n",
      "chunk:  29%|██▉       | 3213/10993 [00:02<00:05, 1459.22it/s, now=None]\u001b[A\n",
      "chunk:  31%|███       | 3360/10993 [00:02<00:05, 1411.31it/s, now=None]\u001b[A\n",
      "chunk:  32%|███▏      | 3502/10993 [00:02<00:05, 1365.35it/s, now=None]\u001b[A\n",
      "chunk:  33%|███▎      | 3644/10993 [00:02<00:05, 1380.10it/s, now=None]\u001b[A\n",
      "chunk:  35%|███▍      | 3793/10993 [00:02<00:05, 1411.23it/s, now=None]\u001b[A\n",
      "chunk:  36%|███▌      | 3935/10993 [00:02<00:05, 1392.41it/s, now=None]\u001b[A\n",
      "chunk:  37%|███▋      | 4075/10993 [00:02<00:05, 1330.29it/s, now=None]\u001b[A\n",
      "chunk:  38%|███▊      | 4211/10993 [00:03<00:05, 1323.83it/s, now=None]\u001b[A\n",
      "chunk:  40%|███▉      | 4351/10993 [00:03<00:04, 1345.12it/s, now=None]\u001b[A\n",
      "chunk:  41%|████      | 4486/10993 [00:04<00:16, 398.08it/s, now=None] \u001b[A\n",
      "chunk:  42%|████▏     | 4594/10993 [00:04<00:13, 472.51it/s, now=None]\u001b[A\n",
      "chunk:  43%|████▎     | 4772/10993 [00:04<00:09, 648.69it/s, now=None]\u001b[A\n",
      "chunk:  45%|████▍     | 4897/10993 [00:04<00:08, 739.55it/s, now=None]\u001b[A\n",
      "chunk:  46%|████▌     | 5062/10993 [00:04<00:06, 908.72it/s, now=None]\u001b[A\n",
      "chunk:  47%|████▋     | 5198/10993 [00:04<00:05, 1000.16it/s, now=None]\u001b[A\n",
      "chunk:  49%|████▊     | 5333/10993 [00:04<00:05, 1073.66it/s, now=None]\u001b[A\n",
      "chunk:  50%|████▉     | 5467/10993 [00:04<00:04, 1106.94it/s, now=None]\u001b[A\n",
      "chunk:  51%|█████     | 5597/10993 [00:04<00:04, 1136.73it/s, now=None]\u001b[A\n",
      "chunk:  52%|█████▏    | 5725/10993 [00:04<00:04, 1149.09it/s, now=None]\u001b[A\n",
      "chunk:  53%|█████▎    | 5872/10993 [00:05<00:04, 1229.48it/s, now=None]\u001b[A\n",
      "chunk:  55%|█████▍    | 6018/10993 [00:05<00:03, 1269.30it/s, now=None]\u001b[A\n",
      "chunk:  56%|█████▌    | 6151/10993 [00:05<00:03, 1274.24it/s, now=None]\u001b[A\n",
      "chunk:  57%|█████▋    | 6297/10993 [00:05<00:03, 1313.55it/s, now=None]\u001b[A\n",
      "chunk:  59%|█████▊    | 6432/10993 [00:05<00:03, 1293.70it/s, now=None]\u001b[A\n",
      "chunk:  60%|█████▉    | 6575/10993 [00:05<00:03, 1332.48it/s, now=None]\u001b[A\n",
      "chunk:  61%|██████    | 6732/10993 [00:05<00:03, 1365.84it/s, now=None]\u001b[A\n",
      "chunk:  63%|██████▎   | 6880/10993 [00:05<00:02, 1398.46it/s, now=None]\u001b[A\n",
      "chunk:  64%|██████▍   | 7021/10993 [00:05<00:02, 1367.22it/s, now=None]\u001b[A\n",
      "chunk:  65%|██████▌   | 7168/10993 [00:06<00:02, 1395.73it/s, now=None]\u001b[A\n",
      "chunk:  66%|██████▋   | 7309/10993 [00:06<00:02, 1389.71it/s, now=None]\u001b[A\n",
      "chunk:  68%|██████▊   | 7449/10993 [00:06<00:02, 1371.07it/s, now=None]\u001b[A\n",
      "chunk:  69%|██████▉   | 7587/10993 [00:06<00:02, 1354.67it/s, now=None]\u001b[A\n",
      "chunk:  70%|███████   | 7723/10993 [00:06<00:02, 1322.01it/s, now=None]\u001b[A\n",
      "chunk:  71%|███████▏  | 7856/10993 [00:06<00:02, 1288.98it/s, now=None]\u001b[A\n",
      "chunk:  73%|███████▎  | 8007/10993 [00:06<00:02, 1348.04it/s, now=None]\u001b[A\n",
      "chunk:  74%|███████▍  | 8160/10993 [00:06<00:02, 1370.91it/s, now=None]\u001b[A\n",
      "chunk:  76%|███████▌  | 8313/10993 [00:06<00:01, 1389.44it/s, now=None]\u001b[A\n",
      "chunk:  77%|███████▋  | 8454/10993 [00:06<00:01, 1394.22it/s, now=None]\u001b[A\n",
      "chunk:  78%|███████▊  | 8594/10993 [00:07<00:01, 1366.79it/s, now=None]\u001b[A\n",
      "chunk:  80%|███████▉  | 8747/10993 [00:07<00:01, 1413.23it/s, now=None]\u001b[A\n",
      "chunk:  81%|████████  | 8889/10993 [00:07<00:01, 1360.13it/s, now=None]\u001b[A\n",
      "chunk:  82%|████████▏ | 9026/10993 [00:07<00:01, 1272.26it/s, now=None]\u001b[A\n",
      "chunk:  83%|████████▎ | 9155/10993 [00:07<00:01, 1182.64it/s, now=None]\u001b[A\n",
      "chunk:  84%|████████▍ | 9282/10993 [00:07<00:01, 1006.73it/s, now=None]\u001b[A\n",
      "chunk:  86%|████████▌ | 9435/10993 [00:07<00:01, 1070.18it/s, now=None]\u001b[A\n",
      "chunk:  87%|████████▋ | 9547/10993 [00:07<00:01, 962.93it/s, now=None] \u001b[A\n",
      "chunk:  88%|████████▊ | 9648/10993 [00:08<00:01, 859.80it/s, now=None]\u001b[A\n",
      "chunk:  89%|████████▊ | 9738/10993 [00:08<00:01, 840.79it/s, now=None]\u001b[A\n",
      "chunk:  89%|████████▉ | 9825/10993 [00:08<00:01, 770.51it/s, now=None]\u001b[A\n",
      "chunk:  90%|█████████ | 9904/10993 [00:08<00:01, 691.86it/s, now=None]\u001b[A\n",
      "chunk:  91%|█████████ | 9996/10993 [00:08<00:01, 659.48it/s, now=None]\u001b[A\n",
      "chunk:  92%|█████████▏| 10098/10993 [00:08<00:01, 679.82it/s, now=None]\u001b[A\n",
      "chunk:  93%|█████████▎| 10200/10993 [00:08<00:01, 680.68it/s, now=None]\u001b[A\n",
      "chunk:  94%|█████████▎| 10302/10993 [00:09<00:01, 673.67it/s, now=None]\u001b[A\n",
      "chunk:  95%|█████████▍| 10404/10993 [00:09<00:00, 712.66it/s, now=None]\u001b[A\n",
      "chunk:  95%|█████████▌| 10477/10993 [00:09<00:00, 708.26it/s, now=None]\u001b[A\n",
      "chunk:  96%|█████████▌| 10557/10993 [00:09<00:00, 666.54it/s, now=None]\u001b[A\n",
      "chunk:  97%|█████████▋| 10636/10993 [00:09<00:00, 696.22it/s, now=None]\u001b[A\n",
      "chunk:  97%|█████████▋| 10710/10993 [00:09<00:00, 692.47it/s, now=None]\u001b[A\n",
      "chunk:  98%|█████████▊| 10789/10993 [00:09<00:00, 717.91it/s, now=None]\u001b[A\n",
      "chunk:  99%|█████████▉| 10863/10993 [00:09<00:00, 703.18it/s, now=None]\u001b[A\n",
      "chunk: 100%|█████████▉| 10965/10993 [00:10<00:00, 752.11it/s, now=None]\u001b[A\n",
      "chunk:  10%|▉         | 1352/14114 [09:05<05:36, 37.97it/s, now=None]  \u001b[A"
     ]
    },
    {
     "name": "stdout",
     "output_type": "stream",
     "text": [
      "MoviePy - Done.\n",
      "Successfully converted ['CUR-TF-200-ACMNLP-1', 'video', 'Mod03_Sect08.mp4'] to audio/Mod03_Sect08.wav\n"
     ]
    },
    {
     "name": "stderr",
     "output_type": "stream",
     "text": [
      "chunk:  10%|▉         | 1352/14114 [09:10<05:36, 37.97it/s, now=None]"
     ]
    },
    {
     "name": "stdout",
     "output_type": "stream",
     "text": [
      "MoviePy - Writing audio in audio/Mod03_WrapUp.wav\n"
     ]
    },
    {
     "name": "stderr",
     "output_type": "stream",
     "text": [
      "\n",
      "chunk:   0%|          | 0/1422 [00:00<?, ?it/s, now=None]\u001b[A\n",
      "chunk:   7%|▋         | 102/1422 [00:00<00:09, 132.54it/s, now=None]\u001b[A\n",
      "chunk:  14%|█▍        | 204/1422 [00:01<00:10, 113.82it/s, now=None]\u001b[A\n",
      "chunk:  18%|█▊        | 255/1422 [00:02<00:15, 75.02it/s, now=None] \u001b[A\n",
      "chunk:  22%|██▏       | 306/1422 [00:04<00:18, 61.07it/s, now=None]\u001b[A\n",
      "chunk:  25%|██▌       | 357/1422 [00:05<00:23, 46.14it/s, now=None]\u001b[A\n",
      "chunk:  29%|██▊       | 408/1422 [00:07<00:22, 44.91it/s, now=None]\u001b[A\n",
      "chunk:  32%|███▏      | 459/1422 [00:08<00:21, 45.20it/s, now=None]\u001b[A\n",
      "chunk:  36%|███▌      | 510/1422 [00:09<00:21, 42.11it/s, now=None]\u001b[A\n",
      "chunk:  39%|███▉      | 561/1422 [00:10<00:20, 41.86it/s, now=None]\u001b[A\n",
      "chunk:  43%|████▎     | 612/1422 [00:12<00:20, 39.89it/s, now=None]\u001b[A\n",
      "chunk:  47%|████▋     | 663/1422 [00:13<00:18, 41.25it/s, now=None]\u001b[A\n",
      "chunk:  50%|█████     | 714/1422 [00:14<00:17, 40.17it/s, now=None]\u001b[A\n",
      "chunk:  54%|█████▍    | 765/1422 [00:16<00:16, 39.17it/s, now=None]\u001b[A\n",
      "chunk:  57%|█████▋    | 816/1422 [00:17<00:15, 38.44it/s, now=None]\u001b[A\n",
      "chunk:  61%|██████    | 867/1422 [00:18<00:14, 38.88it/s, now=None]\u001b[A\n",
      "chunk:  65%|██████▍   | 918/1422 [00:20<00:12, 39.76it/s, now=None]\u001b[A\n",
      "chunk:  68%|██████▊   | 969/1422 [00:21<00:11, 39.27it/s, now=None]\u001b[A\n",
      "chunk:  72%|███████▏  | 1020/1422 [00:22<00:10, 39.02it/s, now=None]\u001b[A\n",
      "chunk:  75%|███████▌  | 1071/1422 [00:23<00:08, 41.11it/s, now=None]\u001b[A\n",
      "chunk:  79%|███████▉  | 1122/1422 [00:25<00:08, 36.59it/s, now=None]\u001b[A\n",
      "chunk:  82%|████████▏ | 1173/1422 [00:26<00:06, 40.17it/s, now=None]\u001b[A\n",
      "chunk:  86%|████████▌ | 1224/1422 [00:27<00:04, 40.18it/s, now=None]\u001b[A\n",
      "chunk:  90%|████████▉ | 1275/1422 [00:28<00:03, 41.23it/s, now=None]\u001b[A\n",
      "chunk:  93%|█████████▎| 1326/1422 [00:30<00:02, 42.15it/s, now=None]\u001b[A\n",
      "chunk:  10%|▉         | 1352/14114 [09:40<05:36, 37.97it/s, now=None][A"
     ]
    },
    {
     "name": "stdout",
     "output_type": "stream",
     "text": [
      "MoviePy - Done.\n",
      "Successfully converted ['CUR-TF-200-ACMNLP-1', 'video', 'Mod03_WrapUp.mp4'] to audio/Mod03_WrapUp.wav\n"
     ]
    }
   ],
   "source": [
    "obj_count = 0\n",
    "for url in presigned_urls_mp4:\n",
    "    mp4_to_wav(url, obj_keys_mp4[obj_count])\n",
    "    obj_count += 1"
   ]
  },
  {
   "cell_type": "code",
   "execution_count": 11,
   "metadata": {
    "tags": []
   },
   "outputs": [
    {
     "name": "stderr",
     "output_type": "stream",
     "text": [
      "chunk:  10%|▉         | 1352/14114 [09:49<05:36, 37.97it/s, now=None]"
     ]
    },
    {
     "name": "stdout",
     "output_type": "stream",
     "text": [
      "MoviePy - Writing audio in audio/Mod01_Course_Overview.wav\n"
     ]
    },
    {
     "name": "stderr",
     "output_type": "stream",
     "text": [
      "\n",
      "chunk:   0%|          | 0/14114 [00:00<?, ?it/s, now=None]\u001b[A\n",
      "chunk:   1%|          | 102/14114 [00:00<01:37, 143.71it/s, now=None]\u001b[A\n",
      "chunk:   1%|          | 152/14114 [00:00<01:10, 198.16it/s, now=None]\u001b[A\n",
      "chunk:   1%|▏         | 202/14114 [00:01<02:00, 115.79it/s, now=None]\u001b[A\n",
      "chunk:   2%|▏         | 252/14114 [00:02<02:45, 83.83it/s, now=None] \u001b[A\n",
      "chunk:   2%|▏         | 302/14114 [00:03<03:30, 65.51it/s, now=None]\u001b[A\n",
      "chunk:   2%|▏         | 352/14114 [00:04<04:08, 55.47it/s, now=None]\u001b[A\n",
      "chunk:   3%|▎         | 402/14114 [00:05<04:20, 52.73it/s, now=None]\u001b[A\n",
      "chunk:   3%|▎         | 452/14114 [00:07<04:58, 45.83it/s, now=None]\u001b[A\n",
      "chunk:   4%|▎         | 503/14114 [00:08<05:35, 40.57it/s, now=None]\u001b[A\n",
      "chunk:   4%|▍         | 553/14114 [00:09<05:26, 41.49it/s, now=None]\u001b[A\n",
      "chunk:   4%|▍         | 603/14114 [00:11<05:21, 41.99it/s, now=None]\u001b[A\n",
      "chunk:   5%|▍         | 653/14114 [00:12<05:15, 42.63it/s, now=None]\u001b[A\n",
      "chunk:   5%|▍         | 703/14114 [00:13<05:26, 41.07it/s, now=None]\u001b[A\n",
      "chunk:   5%|▌         | 753/14114 [00:14<05:12, 42.82it/s, now=None]\u001b[A\n",
      "chunk:   6%|▌         | 803/14114 [00:15<05:18, 41.85it/s, now=None]\u001b[A\n",
      "chunk:   6%|▌         | 853/14114 [00:17<05:40, 38.90it/s, now=None]\u001b[A\n",
      "chunk:   6%|▋         | 903/14114 [00:18<05:37, 39.10it/s, now=None]\u001b[A\n",
      "chunk:   7%|▋         | 953/14114 [00:19<05:40, 38.67it/s, now=None]\u001b[A\n",
      "chunk:   7%|▋         | 1003/14114 [00:21<05:26, 40.20it/s, now=None]\u001b[A\n",
      "chunk:   7%|▋         | 1053/14114 [00:22<05:13, 41.72it/s, now=None]\u001b[A\n",
      "chunk:   8%|▊         | 1103/14114 [00:23<05:11, 41.72it/s, now=None]\u001b[A\n",
      "chunk:   8%|▊         | 1153/14114 [00:24<05:36, 38.56it/s, now=None]\u001b[A\n",
      "chunk:   9%|▊         | 1203/14114 [00:26<05:27, 39.39it/s, now=None]\u001b[A\n",
      "chunk:   9%|▉         | 1253/14114 [00:27<05:12, 41.10it/s, now=None]\u001b[A\n",
      "chunk:   9%|▉         | 1303/14114 [00:28<05:09, 41.37it/s, now=None]\u001b[A\n",
      "chunk:  10%|▉         | 1353/14114 [00:29<05:16, 40.36it/s, now=None]\u001b[A\n",
      "chunk:  10%|▉         | 1404/14114 [00:30<04:56, 42.94it/s, now=None]\u001b[A\n",
      "chunk:  10%|█         | 1454/14114 [00:31<04:58, 42.40it/s, now=None]\u001b[A\n",
      "chunk:  11%|█         | 1504/14114 [00:33<05:14, 40.14it/s, now=None]\u001b[A\n",
      "chunk:  11%|█         | 1554/14114 [00:34<05:09, 40.63it/s, now=None]\u001b[A\n",
      "chunk:  11%|█▏        | 1604/14114 [00:35<04:51, 42.98it/s, now=None]\u001b[A\n",
      "chunk:  12%|█▏        | 1654/14114 [00:36<04:50, 42.89it/s, now=None]\u001b[A\n",
      "chunk:  12%|█▏        | 1704/14114 [00:38<05:09, 40.09it/s, now=None]\u001b[A\n",
      "chunk:  12%|█▏        | 1754/14114 [00:39<04:56, 41.65it/s, now=None]\u001b[A\n",
      "chunk:  13%|█▎        | 1804/14114 [00:40<04:31, 45.37it/s, now=None]\u001b[A\n",
      "chunk:  13%|█▎        | 1854/14114 [00:41<04:27, 45.82it/s, now=None]\u001b[A\n",
      "chunk:  13%|█▎        | 1904/14114 [00:42<04:44, 42.96it/s, now=None]\u001b[A\n",
      "chunk:  14%|█▍        | 1954/14114 [00:43<05:02, 40.22it/s, now=None]\u001b[A\n",
      "chunk:  14%|█▍        | 2004/14114 [00:46<06:14, 32.33it/s, now=None]\u001b[A\n",
      "chunk:  15%|█▍        | 2054/14114 [00:47<05:55, 33.93it/s, now=None]\u001b[A\n",
      "chunk:  15%|█▍        | 2104/14114 [00:48<05:40, 35.23it/s, now=None]\u001b[A\n",
      "chunk:  15%|█▌        | 2154/14114 [00:50<05:42, 34.91it/s, now=None]\u001b[A\n",
      "chunk:  16%|█▌        | 2204/14114 [00:50<04:52, 40.67it/s, now=None]\u001b[A\n",
      "chunk:  16%|█▌        | 2254/14114 [00:51<03:32, 55.86it/s, now=None]\u001b[A\n",
      "chunk:  16%|█▋        | 2305/14114 [00:52<03:55, 50.05it/s, now=None]\u001b[A\n",
      "chunk:  17%|█▋        | 2355/14114 [00:53<04:13, 46.34it/s, now=None]\u001b[A\n",
      "chunk:  17%|█▋        | 2405/14114 [00:55<04:46, 40.88it/s, now=None]\u001b[A\n",
      "chunk:  17%|█▋        | 2455/14114 [00:55<04:09, 46.77it/s, now=None]\u001b[A\n",
      "chunk:  18%|█▊        | 2505/14114 [00:56<03:52, 50.00it/s, now=None]\u001b[A\n",
      "chunk:  18%|█▊        | 2555/14114 [00:57<04:02, 47.65it/s, now=None]\u001b[A\n",
      "chunk:  18%|█▊        | 2605/14114 [00:59<04:27, 43.01it/s, now=None]\u001b[A\n",
      "chunk:  19%|█▉        | 2655/14114 [00:59<03:30, 54.36it/s, now=None]\u001b[A\n",
      "chunk:  19%|█▉        | 2705/14114 [01:00<03:33, 53.32it/s, now=None]\u001b[A\n",
      "chunk:  20%|█▉        | 2755/14114 [01:01<03:19, 56.85it/s, now=None]\u001b[A\n",
      "chunk:  20%|█▉        | 2805/14114 [01:01<02:54, 64.68it/s, now=None]\u001b[A\n",
      "chunk:  20%|██        | 2855/14114 [01:03<03:26, 54.40it/s, now=None]\u001b[A\n",
      "chunk:  21%|██        | 2905/14114 [01:04<03:53, 47.92it/s, now=None]\u001b[A\n",
      "chunk:  21%|██        | 2955/14114 [01:05<03:21, 55.44it/s, now=None]\u001b[A\n",
      "chunk:  22%|██▏       | 3055/14114 [01:06<02:50, 64.99it/s, now=None]\u001b[A\n",
      "chunk:  22%|██▏       | 3105/14114 [01:07<03:13, 56.94it/s, now=None]\u001b[A\n",
      "chunk:  22%|██▏       | 3155/14114 [01:09<03:49, 47.75it/s, now=None]\u001b[A\n",
      "chunk:  23%|██▎       | 3206/14114 [01:10<03:44, 48.66it/s, now=None]\u001b[A\n",
      "chunk:  23%|██▎       | 3256/14114 [01:11<04:00, 45.16it/s, now=None]\u001b[A\n",
      "chunk:  23%|██▎       | 3306/14114 [01:12<03:56, 45.73it/s, now=None]\u001b[A\n",
      "chunk:  24%|██▍       | 3356/14114 [01:13<04:18, 41.61it/s, now=None]\u001b[A\n",
      "chunk:  24%|██▍       | 3406/14114 [01:14<03:13, 55.43it/s, now=None]\u001b[A\n",
      "chunk:  25%|██▍       | 3506/14114 [01:15<03:04, 57.65it/s, now=None]\u001b[A\n",
      "chunk:  25%|██▌       | 3556/14114 [01:16<03:18, 53.08it/s, now=None]\u001b[A\n",
      "chunk:  26%|██▌       | 3606/14114 [01:18<03:29, 50.08it/s, now=None]\u001b[A\n",
      "chunk:  26%|██▌       | 3656/14114 [01:19<04:02, 43.08it/s, now=None]\u001b[A\n",
      "chunk:  26%|██▋       | 3706/14114 [01:20<04:10, 41.56it/s, now=None]\u001b[A\n",
      "chunk:  27%|██▋       | 3756/14114 [01:22<03:59, 43.17it/s, now=None]\u001b[A\n",
      "chunk:  27%|██▋       | 3806/14114 [01:22<03:48, 45.15it/s, now=None]\u001b[A\n",
      "chunk:  27%|██▋       | 3856/14114 [01:24<04:03, 42.15it/s, now=None]\u001b[A\n",
      "chunk:  28%|██▊       | 3906/14114 [01:26<04:58, 34.20it/s, now=None]\u001b[A\n",
      "chunk:  28%|██▊       | 3956/14114 [01:27<04:00, 42.26it/s, now=None]\u001b[A\n",
      "chunk:  28%|██▊       | 4006/14114 [01:28<03:50, 43.80it/s, now=None]\u001b[A\n",
      "chunk:  29%|██▊       | 4056/14114 [01:29<03:48, 44.05it/s, now=None]\u001b[A\n",
      "chunk:  29%|██▉       | 4107/14114 [01:30<03:52, 43.12it/s, now=None]\u001b[A\n",
      "chunk:  29%|██▉       | 4157/14114 [01:30<02:59, 55.37it/s, now=None]\u001b[A\n",
      "chunk:  30%|██▉       | 4207/14114 [01:31<02:55, 56.44it/s, now=None]\u001b[A\n",
      "chunk:  30%|███       | 4257/14114 [01:32<03:04, 53.54it/s, now=None]\u001b[A\n",
      "chunk:  31%|███       | 4357/14114 [01:32<01:43, 94.05it/s, now=None]\u001b[A\n",
      "chunk:  31%|███       | 4407/14114 [01:33<02:03, 78.86it/s, now=None]\u001b[A\n",
      "chunk:  32%|███▏      | 4457/14114 [01:34<02:31, 63.61it/s, now=None]\u001b[A\n",
      "chunk:  32%|███▏      | 4507/14114 [01:35<01:59, 80.59it/s, now=None]\u001b[A\n",
      "chunk:  33%|███▎      | 4607/14114 [01:35<01:32, 102.94it/s, now=None]\u001b[A\n",
      "chunk:  33%|███▎      | 4657/14114 [01:37<02:21, 66.79it/s, now=None] \u001b[A\n",
      "chunk:  33%|███▎      | 4707/14114 [01:37<01:58, 79.06it/s, now=None]\u001b[A\n",
      "chunk:  34%|███▍      | 4807/14114 [01:38<01:32, 100.72it/s, now=None]\u001b[A\n",
      "chunk:  34%|███▍      | 4857/14114 [01:39<02:11, 70.65it/s, now=None] \u001b[A\n",
      "chunk:  35%|███▍      | 4907/14114 [01:40<02:25, 63.10it/s, now=None]\u001b[A\n",
      "chunk:  35%|███▌      | 4957/14114 [01:40<01:55, 79.15it/s, now=None]\u001b[A\n",
      "chunk:  36%|███▌      | 5058/14114 [01:41<01:47, 84.47it/s, now=None]\u001b[A\n",
      "chunk:  36%|███▌      | 5108/14114 [01:43<02:14, 66.82it/s, now=None]\u001b[A\n",
      "chunk:  37%|███▋      | 5158/14114 [01:43<01:59, 75.24it/s, now=None]\u001b[A\n",
      "chunk:  37%|███▋      | 5258/14114 [01:44<01:43, 85.19it/s, now=None]\u001b[A\n",
      "chunk:  38%|███▊      | 5308/14114 [01:44<01:29, 98.62it/s, now=None]\u001b[A\n",
      "chunk:  38%|███▊      | 5408/14114 [01:45<01:31, 94.85it/s, now=None]\u001b[A\n",
      "chunk:  39%|███▊      | 5458/14114 [01:47<01:57, 73.52it/s, now=None]\u001b[A\n",
      "chunk:  39%|███▉      | 5508/14114 [01:47<01:34, 91.47it/s, now=None]\u001b[A\n",
      "chunk:  39%|███▉      | 5558/14114 [01:48<01:50, 77.11it/s, now=None]\u001b[A\n",
      "chunk:  40%|███▉      | 5608/14114 [01:49<02:09, 65.93it/s, now=None]\u001b[A\n",
      "chunk:  40%|████      | 5658/14114 [01:50<02:31, 55.68it/s, now=None]\u001b[A\n",
      "chunk:  40%|████      | 5708/14114 [01:51<02:23, 58.72it/s, now=None]\u001b[A\n",
      "chunk:  41%|████      | 5758/14114 [01:52<02:24, 57.93it/s, now=None]\u001b[A\n",
      "chunk:  41%|████      | 5808/14114 [01:53<02:41, 51.40it/s, now=None]\u001b[A\n",
      "chunk:  42%|████▏     | 5858/14114 [01:54<02:50, 48.51it/s, now=None]\u001b[A\n",
      "chunk:  42%|████▏     | 5908/14114 [01:56<03:13, 42.37it/s, now=None]\u001b[A\n",
      "chunk:  42%|████▏     | 5959/14114 [01:56<02:42, 50.18it/s, now=None]\u001b[A\n",
      "chunk:  43%|████▎     | 6009/14114 [01:58<02:57, 45.68it/s, now=None]\u001b[A\n",
      "chunk:  43%|████▎     | 6059/14114 [01:59<03:14, 41.50it/s, now=None]\u001b[A\n",
      "chunk:  43%|████▎     | 6109/14114 [02:00<02:54, 45.85it/s, now=None]\u001b[A\n",
      "chunk:  44%|████▎     | 6159/14114 [02:00<02:07, 62.53it/s, now=None]\u001b[A\n",
      "chunk:  44%|████▍     | 6209/14114 [02:01<02:27, 53.52it/s, now=None]\u001b[A\n",
      "chunk:  44%|████▍     | 6259/14114 [02:02<02:42, 48.38it/s, now=None]\u001b[A\n",
      "chunk:  45%|████▍     | 6309/14114 [02:03<02:22, 54.72it/s, now=None]\u001b[A\n",
      "chunk:  45%|████▌     | 6359/14114 [02:04<02:39, 48.48it/s, now=None]\u001b[A\n",
      "chunk:  45%|████▌     | 6409/14114 [02:05<02:36, 49.13it/s, now=None]\u001b[A\n",
      "chunk:  46%|████▌     | 6459/14114 [02:06<02:39, 47.97it/s, now=None]\u001b[A\n",
      "chunk:  46%|████▌     | 6509/14114 [02:08<02:50, 44.49it/s, now=None]\u001b[A\n",
      "chunk:  46%|████▋     | 6559/14114 [02:09<02:56, 42.86it/s, now=None]\u001b[A\n",
      "chunk:  47%|████▋     | 6609/14114 [02:10<02:31, 49.63it/s, now=None]\u001b[A\n",
      "chunk:  47%|████▋     | 6659/14114 [02:11<02:47, 44.40it/s, now=None]\u001b[A\n",
      "chunk:  48%|████▊     | 6709/14114 [02:12<02:56, 42.01it/s, now=None]\u001b[A\n",
      "chunk:  48%|████▊     | 6759/14114 [02:13<02:35, 47.35it/s, now=None]\u001b[A\n",
      "chunk:  48%|████▊     | 6809/14114 [02:15<02:48, 43.23it/s, now=None]\u001b[A\n",
      "chunk:  49%|████▊     | 6860/14114 [02:15<02:29, 48.61it/s, now=None]\u001b[A\n",
      "chunk:  49%|████▉     | 6910/14114 [02:15<01:48, 66.10it/s, now=None]\u001b[A\n",
      "chunk:  49%|████▉     | 6960/14114 [02:17<02:04, 57.39it/s, now=None]\u001b[A\n",
      "chunk:  50%|████▉     | 7010/14114 [02:18<02:30, 47.24it/s, now=None]\u001b[A\n",
      "chunk:  50%|█████     | 7060/14114 [02:19<02:21, 49.80it/s, now=None]\u001b[A\n",
      "chunk:  51%|█████     | 7160/14114 [02:20<01:44, 66.67it/s, now=None]\u001b[A\n",
      "chunk:  51%|█████     | 7210/14114 [02:21<01:58, 58.31it/s, now=None]\u001b[A\n",
      "chunk:  51%|█████▏    | 7260/14114 [02:22<02:04, 55.14it/s, now=None]\u001b[A\n",
      "chunk:  52%|█████▏    | 7310/14114 [02:24<02:29, 45.58it/s, now=None]\u001b[A\n",
      "chunk:  52%|█████▏    | 7360/14114 [02:24<02:13, 50.57it/s, now=None]\u001b[A\n",
      "chunk:  53%|█████▎    | 7410/14114 [02:26<02:25, 45.97it/s, now=None]\u001b[A\n",
      "chunk:  53%|█████▎    | 7460/14114 [02:27<02:48, 39.52it/s, now=None]\u001b[A\n",
      "chunk:  53%|█████▎    | 7510/14114 [02:28<02:38, 41.73it/s, now=None]\u001b[A\n",
      "chunk:  54%|█████▎    | 7560/14114 [02:29<02:06, 51.84it/s, now=None]\u001b[A\n",
      "chunk:  54%|█████▍    | 7610/14114 [02:30<02:09, 50.34it/s, now=None]\u001b[A\n",
      "chunk:  54%|█████▍    | 7660/14114 [02:31<02:14, 47.91it/s, now=None]\u001b[A\n",
      "chunk:  55%|█████▍    | 7710/14114 [02:32<01:58, 54.27it/s, now=None]\u001b[A\n",
      "chunk:  55%|█████▌    | 7811/14114 [02:32<01:23, 75.78it/s, now=None]\u001b[A\n",
      "chunk:  56%|█████▌    | 7911/14114 [02:33<00:52, 118.36it/s, now=None]\u001b[A\n",
      "chunk:  56%|█████▋    | 7961/14114 [02:33<00:48, 125.77it/s, now=None]\u001b[A\n",
      "chunk:  57%|█████▋    | 8011/14114 [02:34<01:11, 85.13it/s, now=None] \u001b[A\n",
      "chunk:  57%|█████▋    | 8061/14114 [02:35<01:33, 64.44it/s, now=None]\u001b[A\n",
      "chunk:  57%|█████▋    | 8111/14114 [02:36<01:39, 60.20it/s, now=None]\u001b[A\n",
      "chunk:  58%|█████▊    | 8161/14114 [02:37<01:22, 71.81it/s, now=None]\u001b[A\n",
      "chunk:  58%|█████▊    | 8211/14114 [02:37<01:10, 83.50it/s, now=None]\u001b[A\n",
      "chunk:  59%|█████▊    | 8261/14114 [02:38<01:24, 69.14it/s, now=None]\u001b[A\n",
      "chunk:  59%|█████▉    | 8311/14114 [02:39<01:34, 61.09it/s, now=None]\u001b[A\n",
      "chunk:  59%|█████▉    | 8361/14114 [02:41<01:57, 48.95it/s, now=None]\u001b[A\n",
      "chunk:  60%|█████▉    | 8411/14114 [02:41<01:32, 61.99it/s, now=None]\u001b[A\n",
      "chunk:  60%|█████▉    | 8461/14114 [02:42<01:37, 57.71it/s, now=None]\u001b[A\n",
      "chunk:  60%|██████    | 8511/14114 [02:43<01:58, 47.37it/s, now=None]\u001b[A\n",
      "chunk:  61%|██████    | 8561/14114 [02:46<02:40, 34.53it/s, now=None]\u001b[A\n",
      "chunk:  61%|██████    | 8611/14114 [02:46<01:59, 46.12it/s, now=None]\u001b[A\n",
      "chunk:  61%|██████▏   | 8662/14114 [02:47<01:53, 48.04it/s, now=None]\u001b[A\n",
      "chunk:  62%|██████▏   | 8712/14114 [02:48<01:52, 48.00it/s, now=None]\u001b[A\n",
      "chunk:  62%|██████▏   | 8762/14114 [02:49<01:49, 48.81it/s, now=None]\u001b[A\n",
      "chunk:  62%|██████▏   | 8812/14114 [02:50<01:34, 56.15it/s, now=None]\u001b[A\n",
      "chunk:  63%|██████▎   | 8912/14114 [02:51<01:16, 68.02it/s, now=None]\u001b[A\n",
      "chunk:  63%|██████▎   | 8962/14114 [02:52<01:32, 55.92it/s, now=None]\u001b[A\n",
      "chunk:  64%|██████▍   | 9012/14114 [02:53<01:30, 56.35it/s, now=None]\u001b[A\n",
      "chunk:  64%|██████▍   | 9062/14114 [02:54<01:21, 62.23it/s, now=None]\u001b[A\n",
      "chunk:  65%|██████▍   | 9112/14114 [02:55<01:25, 58.43it/s, now=None]\u001b[A\n",
      "chunk:  65%|██████▍   | 9162/14114 [02:56<01:29, 55.22it/s, now=None]\u001b[A\n",
      "chunk:  65%|██████▌   | 9212/14114 [02:56<01:24, 57.78it/s, now=None]\u001b[A\n",
      "chunk:  66%|██████▌   | 9287/14114 [02:56<00:54, 89.34it/s, now=None]\u001b[A\n",
      "chunk:  66%|██████▌   | 9314/14114 [02:57<01:16, 63.10it/s, now=None]\u001b[A\n",
      "chunk:  66%|██████▋   | 9362/14114 [02:59<01:30, 52.70it/s, now=None]\u001b[A\n",
      "chunk:  67%|██████▋   | 9412/14114 [03:00<01:39, 47.02it/s, now=None]\u001b[A\n",
      "chunk:  67%|██████▋   | 9462/14114 [03:01<01:28, 52.72it/s, now=None]\u001b[A\n",
      "chunk:  67%|██████▋   | 9512/14114 [03:02<01:26, 53.21it/s, now=None]\u001b[A\n",
      "chunk:  68%|██████▊   | 9562/14114 [03:03<01:34, 48.21it/s, now=None]\u001b[A\n",
      "chunk:  68%|██████▊   | 9613/14114 [03:04<01:25, 52.75it/s, now=None]\u001b[A\n",
      "chunk:  68%|██████▊   | 9663/14114 [03:04<01:14, 59.85it/s, now=None]\u001b[A\n",
      "chunk:  69%|██████▉   | 9713/14114 [03:05<01:03, 68.99it/s, now=None]\u001b[A\n",
      "chunk:  69%|██████▉   | 9763/14114 [03:06<01:15, 57.28it/s, now=None]\u001b[A\n",
      "chunk:  70%|██████▉   | 9813/14114 [03:08<01:32, 46.27it/s, now=None]\u001b[A\n",
      "chunk:  70%|██████▉   | 9863/14114 [03:08<01:11, 59.32it/s, now=None]\u001b[A\n",
      "chunk:  71%|███████   | 9963/14114 [03:09<01:03, 65.84it/s, now=None]\u001b[A\n",
      "chunk:  71%|███████   | 10013/14114 [03:10<01:10, 57.97it/s, now=None]\u001b[A\n",
      "chunk:  71%|███████▏  | 10063/14114 [03:12<01:19, 51.14it/s, now=None]\u001b[A\n",
      "chunk:  72%|███████▏  | 10113/14114 [03:12<00:59, 67.14it/s, now=None]\u001b[A\n",
      "chunk:  72%|███████▏  | 10163/14114 [03:13<01:06, 59.47it/s, now=None]\u001b[A\n",
      "chunk:  72%|███████▏  | 10213/14114 [03:14<01:13, 53.35it/s, now=None]\u001b[A\n",
      "chunk:  73%|███████▎  | 10263/14114 [03:16<01:31, 41.97it/s, now=None]\u001b[A\n",
      "chunk:  73%|███████▎  | 10313/14114 [03:16<01:10, 53.97it/s, now=None]\u001b[A\n",
      "chunk:  73%|███████▎  | 10363/14114 [03:17<01:07, 55.24it/s, now=None]\u001b[A\n",
      "chunk:  74%|███████▍  | 10413/14114 [03:18<01:10, 52.61it/s, now=None]\u001b[A\n",
      "chunk:  74%|███████▍  | 10463/14114 [03:19<01:12, 50.16it/s, now=None]\u001b[A\n",
      "chunk:  74%|███████▍  | 10514/14114 [03:20<01:12, 49.35it/s, now=None]\u001b[A\n",
      "chunk:  75%|███████▍  | 10564/14114 [03:21<01:03, 56.27it/s, now=None]\u001b[A\n",
      "chunk:  75%|███████▌  | 10614/14114 [03:22<01:13, 47.51it/s, now=None]\u001b[A\n",
      "chunk:  76%|███████▌  | 10664/14114 [03:23<01:09, 49.42it/s, now=None]\u001b[A\n",
      "chunk:  76%|███████▌  | 10714/14114 [03:24<01:08, 49.70it/s, now=None]\u001b[A\n",
      "chunk:  76%|███████▋  | 10764/14114 [03:25<01:12, 46.03it/s, now=None]\u001b[A\n",
      "chunk:  77%|███████▋  | 10814/14114 [03:27<01:14, 44.01it/s, now=None]\u001b[A\n",
      "chunk:  77%|███████▋  | 10864/14114 [03:28<01:14, 43.88it/s, now=None]\u001b[A\n",
      "chunk:  77%|███████▋  | 10914/14114 [03:29<01:09, 46.05it/s, now=None]\u001b[A\n",
      "chunk:  78%|███████▊  | 10964/14114 [03:30<01:11, 44.04it/s, now=None]\u001b[A\n",
      "chunk:  78%|███████▊  | 11014/14114 [03:31<01:10, 43.83it/s, now=None]\u001b[A\n",
      "chunk:  78%|███████▊  | 11064/14114 [03:32<01:07, 45.46it/s, now=None]\u001b[A\n",
      "chunk:  79%|███████▊  | 11114/14114 [03:33<01:09, 43.24it/s, now=None]\u001b[A\n",
      "chunk:  79%|███████▉  | 11164/14114 [03:35<01:09, 42.49it/s, now=None]\u001b[A\n",
      "chunk:  79%|███████▉  | 11214/14114 [03:36<01:07, 43.20it/s, now=None]\u001b[A\n",
      "chunk:  80%|███████▉  | 11264/14114 [03:37<01:09, 40.89it/s, now=None]\u001b[A\n",
      "chunk:  80%|████████  | 11314/14114 [03:38<01:07, 41.75it/s, now=None]\u001b[A\n",
      "chunk:  81%|████████  | 11364/14114 [03:40<01:09, 39.61it/s, now=None]\u001b[A\n",
      "chunk:  81%|████████  | 11415/14114 [03:41<01:02, 42.94it/s, now=None]\u001b[A\n",
      "chunk:  81%|████████  | 11465/14114 [03:42<01:02, 42.42it/s, now=None]\u001b[A\n",
      "chunk:  82%|████████▏ | 11515/14114 [03:43<01:05, 39.70it/s, now=None]\u001b[A\n",
      "chunk:  82%|████████▏ | 11565/14114 [03:45<01:03, 40.17it/s, now=None]\u001b[A\n",
      "chunk:  82%|████████▏ | 11615/14114 [03:46<01:03, 39.18it/s, now=None]\u001b[A\n",
      "chunk:  83%|████████▎ | 11665/14114 [03:47<01:00, 40.24it/s, now=None]\u001b[A\n",
      "chunk:  83%|████████▎ | 11715/14114 [03:48<01:01, 39.27it/s, now=None]\u001b[A\n",
      "chunk:  83%|████████▎ | 11765/14114 [03:50<00:58, 40.27it/s, now=None]\u001b[A\n",
      "chunk:  84%|████████▎ | 11815/14114 [03:51<00:59, 38.94it/s, now=None]\u001b[A\n",
      "chunk:  84%|████████▍ | 11865/14114 [03:52<00:56, 40.01it/s, now=None]\u001b[A\n",
      "chunk:  84%|████████▍ | 11915/14114 [03:53<00:56, 39.26it/s, now=None]\u001b[A\n",
      "chunk:  85%|████████▍ | 11965/14114 [03:55<00:51, 41.63it/s, now=None]\u001b[A\n",
      "chunk:  85%|████████▌ | 12015/14114 [03:56<00:49, 42.76it/s, now=None]\u001b[A\n",
      "chunk:  85%|████████▌ | 12065/14114 [03:57<00:50, 40.94it/s, now=None]\u001b[A\n",
      "chunk:  86%|████████▌ | 12115/14114 [03:58<00:49, 40.14it/s, now=None]\u001b[A\n",
      "chunk:  86%|████████▌ | 12165/14114 [03:59<00:47, 40.86it/s, now=None]\u001b[A\n",
      "chunk:  87%|████████▋ | 12215/14114 [04:00<00:43, 43.54it/s, now=None]\u001b[A\n",
      "chunk:  87%|████████▋ | 12265/14114 [04:02<00:47, 39.26it/s, now=None]\u001b[A\n",
      "chunk:  87%|████████▋ | 12316/14114 [04:03<00:44, 40.47it/s, now=None]\u001b[A\n",
      "chunk:  88%|████████▊ | 12366/14114 [04:05<00:45, 38.26it/s, now=None]\u001b[A\n",
      "chunk:  88%|████████▊ | 12416/14114 [04:06<00:44, 38.17it/s, now=None]\u001b[A\n",
      "chunk:  88%|████████▊ | 12466/14114 [04:07<00:40, 41.17it/s, now=None]\u001b[A\n",
      "chunk:  89%|████████▊ | 12516/14114 [04:08<00:38, 42.01it/s, now=None]\u001b[A\n",
      "chunk:  89%|████████▉ | 12566/14114 [04:09<00:34, 45.29it/s, now=None]\u001b[A\n",
      "chunk:  89%|████████▉ | 12616/14114 [04:10<00:34, 43.85it/s, now=None]\u001b[A\n",
      "chunk:  90%|████████▉ | 12666/14114 [04:11<00:33, 42.94it/s, now=None]\u001b[A\n",
      "chunk:  90%|█████████ | 12716/14114 [04:12<00:30, 45.97it/s, now=None]\u001b[A\n",
      "chunk:  90%|█████████ | 12766/14114 [04:13<00:29, 45.87it/s, now=None]\u001b[A\n",
      "chunk:  91%|█████████ | 12816/14114 [04:15<00:30, 42.20it/s, now=None]\u001b[A\n",
      "chunk:  91%|█████████ | 12866/14114 [04:16<00:27, 44.61it/s, now=None]\u001b[A\n",
      "chunk:  92%|█████████▏| 12916/14114 [04:17<00:26, 45.65it/s, now=None]\u001b[A\n",
      "chunk:  92%|█████████▏| 12966/14114 [04:18<00:25, 44.95it/s, now=None]\u001b[A\n",
      "chunk:  92%|█████████▏| 13016/14114 [04:19<00:23, 46.81it/s, now=None]\u001b[A\n",
      "chunk:  93%|█████████▎| 13066/14114 [04:20<00:23, 44.88it/s, now=None]\u001b[A\n",
      "chunk:  93%|█████████▎| 13116/14114 [04:21<00:23, 42.45it/s, now=None]\u001b[A\n",
      "chunk:  93%|█████████▎| 13166/14114 [04:22<00:20, 46.72it/s, now=None]\u001b[A\n",
      "chunk:  94%|█████████▎| 13217/14114 [04:23<00:19, 46.71it/s, now=None]\u001b[A\n",
      "chunk:  94%|█████████▍| 13267/14114 [04:25<00:19, 42.88it/s, now=None]\u001b[A\n",
      "chunk:  94%|█████████▍| 13317/14114 [04:26<00:18, 42.72it/s, now=None]\u001b[A\n",
      "chunk:  95%|█████████▍| 13367/14114 [04:27<00:15, 47.46it/s, now=None]\u001b[A\n",
      "chunk:  95%|█████████▌| 13417/14114 [04:28<00:15, 45.54it/s, now=None]\u001b[A\n",
      "chunk:  95%|█████████▌| 13467/14114 [04:29<00:14, 44.15it/s, now=None]\u001b[A\n",
      "chunk:  96%|█████████▌| 13517/14114 [04:30<00:13, 44.29it/s, now=None]\u001b[A\n",
      "chunk:  96%|█████████▌| 13567/14114 [04:31<00:12, 44.42it/s, now=None]\u001b[A\n",
      "chunk:  96%|█████████▋| 13617/14114 [04:32<00:09, 51.78it/s, now=None]\u001b[A\n",
      "chunk:  97%|█████████▋| 13667/14114 [04:33<00:09, 45.51it/s, now=None]\u001b[A\n",
      "chunk:  97%|█████████▋| 13717/14114 [04:35<00:09, 41.98it/s, now=None]\u001b[A\n",
      "chunk:  98%|█████████▊| 13767/14114 [04:35<00:07, 48.62it/s, now=None]\u001b[A\n",
      "chunk:  98%|█████████▊| 13817/14114 [04:37<00:06, 47.79it/s, now=None]\u001b[A\n",
      "chunk:  98%|█████████▊| 13867/14114 [04:38<00:05, 41.25it/s, now=None]\u001b[A\n",
      "chunk:  99%|█████████▊| 13917/14114 [04:39<00:04, 46.63it/s, now=None]\u001b[A\n",
      "chunk:  99%|█████████▉| 13967/14114 [04:39<00:02, 63.66it/s, now=None]\u001b[A\n",
      "chunk:  99%|█████████▉| 14017/14114 [04:40<00:01, 61.89it/s, now=None]\u001b[A\n",
      "chunk: 100%|█████████▉| 14067/14114 [04:41<00:00, 64.42it/s, now=None]\u001b[A\n",
      "chunk:  10%|▉         | 1352/14114 [14:30<05:36, 37.97it/s, now=None] \u001b[A"
     ]
    },
    {
     "name": "stdout",
     "output_type": "stream",
     "text": [
      "MoviePy - Done.\n",
      "Successfully converted ['CUR-TF-200-ACMNLP-1', 'video', 'Mod01_Course_Overview.mp4'] to audio/Mod01_Course_Overview.wav\n"
     ]
    }
   ],
   "source": [
    "mp4_to_wav(presigned_urls_mp4[0], obj_keys_mp4[0])"
   ]
  },
  {
   "cell_type": "code",
   "execution_count": 1,
   "metadata": {
    "tags": []
   },
   "outputs": [
    {
     "name": "stdout",
     "output_type": "stream",
     "text": [
      "Requirement already satisfied: torch in /home/ec2-user/anaconda3/envs/pytorch_p310/lib/python3.10/site-packages (2.1.0)\n",
      "Requirement already satisfied: transformers in /home/ec2-user/anaconda3/envs/pytorch_p310/lib/python3.10/site-packages (4.39.3)\n",
      "Requirement already satisfied: filelock in /home/ec2-user/anaconda3/envs/pytorch_p310/lib/python3.10/site-packages (from torch) (3.13.1)\n",
      "Requirement already satisfied: typing-extensions in /home/ec2-user/anaconda3/envs/pytorch_p310/lib/python3.10/site-packages (from torch) (4.9.0)\n",
      "Requirement already satisfied: sympy in /home/ec2-user/anaconda3/envs/pytorch_p310/lib/python3.10/site-packages (from torch) (1.12)\n",
      "Requirement already satisfied: networkx in /home/ec2-user/anaconda3/envs/pytorch_p310/lib/python3.10/site-packages (from torch) (3.2.1)\n",
      "Requirement already satisfied: jinja2 in /home/ec2-user/anaconda3/envs/pytorch_p310/lib/python3.10/site-packages (from torch) (3.1.3)\n",
      "Requirement already satisfied: fsspec in /home/ec2-user/anaconda3/envs/pytorch_p310/lib/python3.10/site-packages (from torch) (2024.2.0)\n",
      "Requirement already satisfied: huggingface-hub<1.0,>=0.19.3 in /home/ec2-user/anaconda3/envs/pytorch_p310/lib/python3.10/site-packages (from transformers) (0.22.2)\n",
      "Requirement already satisfied: numpy>=1.17 in /home/ec2-user/anaconda3/envs/pytorch_p310/lib/python3.10/site-packages (from transformers) (1.26.4)\n",
      "Requirement already satisfied: packaging>=20.0 in /home/ec2-user/anaconda3/envs/pytorch_p310/lib/python3.10/site-packages (from transformers) (21.3)\n",
      "Requirement already satisfied: pyyaml>=5.1 in /home/ec2-user/anaconda3/envs/pytorch_p310/lib/python3.10/site-packages (from transformers) (6.0.1)\n",
      "Requirement already satisfied: regex!=2019.12.17 in /home/ec2-user/anaconda3/envs/pytorch_p310/lib/python3.10/site-packages (from transformers) (2023.12.25)\n",
      "Requirement already satisfied: requests in /home/ec2-user/anaconda3/envs/pytorch_p310/lib/python3.10/site-packages (from transformers) (2.31.0)\n",
      "Requirement already satisfied: tokenizers<0.19,>=0.14 in /home/ec2-user/anaconda3/envs/pytorch_p310/lib/python3.10/site-packages (from transformers) (0.15.2)\n",
      "Requirement already satisfied: safetensors>=0.4.1 in /home/ec2-user/anaconda3/envs/pytorch_p310/lib/python3.10/site-packages (from transformers) (0.4.2)\n",
      "Requirement already satisfied: tqdm>=4.27 in /home/ec2-user/anaconda3/envs/pytorch_p310/lib/python3.10/site-packages (from transformers) (4.66.2)\n",
      "Requirement already satisfied: pyparsing!=3.0.5,>=2.0.2 in /home/ec2-user/anaconda3/envs/pytorch_p310/lib/python3.10/site-packages (from packaging>=20.0->transformers) (3.1.1)\n",
      "Requirement already satisfied: MarkupSafe>=2.0 in /home/ec2-user/anaconda3/envs/pytorch_p310/lib/python3.10/site-packages (from jinja2->torch) (2.1.5)\n",
      "Requirement already satisfied: charset-normalizer<4,>=2 in /home/ec2-user/anaconda3/envs/pytorch_p310/lib/python3.10/site-packages (from requests->transformers) (3.3.2)\n",
      "Requirement already satisfied: idna<4,>=2.5 in /home/ec2-user/anaconda3/envs/pytorch_p310/lib/python3.10/site-packages (from requests->transformers) (3.6)\n",
      "Requirement already satisfied: urllib3<3,>=1.21.1 in /home/ec2-user/anaconda3/envs/pytorch_p310/lib/python3.10/site-packages (from requests->transformers) (2.0.7)\n",
      "Requirement already satisfied: certifi>=2017.4.17 in /home/ec2-user/anaconda3/envs/pytorch_p310/lib/python3.10/site-packages (from requests->transformers) (2024.2.2)\n",
      "Requirement already satisfied: mpmath>=0.19 in /home/ec2-user/anaconda3/envs/pytorch_p310/lib/python3.10/site-packages (from sympy->torch) (1.3.0)\n"
     ]
    }
   ],
   "source": [
    "!pip install torch transformers"
   ]
  },
  {
   "cell_type": "code",
   "execution_count": 2,
   "metadata": {
    "tags": []
   },
   "outputs": [
    {
     "data": {
      "application/vnd.jupyter.widget-view+json": {
       "model_id": "ff960bf706ab4243b1d7940befb9f4df",
       "version_major": 2,
       "version_minor": 0
      },
      "text/plain": [
       "config.json:   0%|          | 0.00/1.99k [00:00<?, ?B/s]"
      ]
     },
     "metadata": {},
     "output_type": "display_data"
    },
    {
     "data": {
      "application/vnd.jupyter.widget-view+json": {
       "model_id": "9732f3391b8f42ed9482f288b40e8093",
       "version_major": 2,
       "version_minor": 0
      },
      "text/plain": [
       "model.safetensors:   0%|          | 0.00/6.17G [00:00<?, ?B/s]"
      ]
     },
     "metadata": {},
     "output_type": "display_data"
    },
    {
     "data": {
      "application/vnd.jupyter.widget-view+json": {
       "model_id": "ce722f18a7154521bdaf999e68b488fb",
       "version_major": 2,
       "version_minor": 0
      },
      "text/plain": [
       "generation_config.json:   0%|          | 0.00/4.29k [00:00<?, ?B/s]"
      ]
     },
     "metadata": {},
     "output_type": "display_data"
    },
    {
     "data": {
      "application/vnd.jupyter.widget-view+json": {
       "model_id": "93369404a0ad4eb590b38551faa4fe78",
       "version_major": 2,
       "version_minor": 0
      },
      "text/plain": [
       "tokenizer_config.json:   0%|          | 0.00/283k [00:00<?, ?B/s]"
      ]
     },
     "metadata": {},
     "output_type": "display_data"
    },
    {
     "data": {
      "application/vnd.jupyter.widget-view+json": {
       "model_id": "f5231e4dd0634b21b9cda56937acc4b6",
       "version_major": 2,
       "version_minor": 0
      },
      "text/plain": [
       "vocab.json:   0%|          | 0.00/836k [00:00<?, ?B/s]"
      ]
     },
     "metadata": {},
     "output_type": "display_data"
    },
    {
     "data": {
      "application/vnd.jupyter.widget-view+json": {
       "model_id": "fc00911ce128437a949ff189c58ffcbc",
       "version_major": 2,
       "version_minor": 0
      },
      "text/plain": [
       "tokenizer.json:   0%|          | 0.00/2.48M [00:00<?, ?B/s]"
      ]
     },
     "metadata": {},
     "output_type": "display_data"
    },
    {
     "data": {
      "application/vnd.jupyter.widget-view+json": {
       "model_id": "cc4fffb0ac8048f6a892edf7c0c3909a",
       "version_major": 2,
       "version_minor": 0
      },
      "text/plain": [
       "merges.txt:   0%|          | 0.00/494k [00:00<?, ?B/s]"
      ]
     },
     "metadata": {},
     "output_type": "display_data"
    },
    {
     "data": {
      "application/vnd.jupyter.widget-view+json": {
       "model_id": "1e13e07e7c0a4b3580d6ad8f2214cd3d",
       "version_major": 2,
       "version_minor": 0
      },
      "text/plain": [
       "normalizer.json:   0%|          | 0.00/52.7k [00:00<?, ?B/s]"
      ]
     },
     "metadata": {},
     "output_type": "display_data"
    },
    {
     "data": {
      "application/vnd.jupyter.widget-view+json": {
       "model_id": "7eff4a3dc6244114bc2fd7b0bd448888",
       "version_major": 2,
       "version_minor": 0
      },
      "text/plain": [
       "added_tokens.json:   0%|          | 0.00/34.6k [00:00<?, ?B/s]"
      ]
     },
     "metadata": {},
     "output_type": "display_data"
    },
    {
     "data": {
      "application/vnd.jupyter.widget-view+json": {
       "model_id": "d22a99c3ac844594b5a60ee5f2f15fb3",
       "version_major": 2,
       "version_minor": 0
      },
      "text/plain": [
       "special_tokens_map.json:   0%|          | 0.00/2.19k [00:00<?, ?B/s]"
      ]
     },
     "metadata": {},
     "output_type": "display_data"
    },
    {
     "name": "stderr",
     "output_type": "stream",
     "text": [
      "Special tokens have been added in the vocabulary, make sure the associated word embeddings are fine-tuned or trained.\n"
     ]
    },
    {
     "data": {
      "application/vnd.jupyter.widget-view+json": {
       "model_id": "259466ea50ad4113b1895f51a260bf18",
       "version_major": 2,
       "version_minor": 0
      },
      "text/plain": [
       "preprocessor_config.json:   0%|          | 0.00/185k [00:00<?, ?B/s]"
      ]
     },
     "metadata": {},
     "output_type": "display_data"
    }
   ],
   "source": [
    "import torch\n",
    "from transformers import pipeline\n",
    "import os\n",
    "\n",
    "whisper = pipeline(\"automatic-speech-recognition\", \"openai/whisper-large-v2\", device=\"cuda:0\")"
   ]
  },
  {
   "cell_type": "code",
   "execution_count": 5,
   "metadata": {
    "tags": []
   },
   "outputs": [],
   "source": [
    "def transcribe_audio_folder(audio_folder_path=\"audio\", output_folder_path=\"subtitles\"):\n",
    "\n",
    "    os.makedirs(output_folder_path, exist_ok=True)\n",
    "\n",
    "    audio_files = [os.path.join(audio_folder_path, f) for f in os.listdir(audio_folder_path) if f.endswith((\".mp3\", \".wav\"))]\n",
    "\n",
    "    for audio_file in audio_files:\n",
    "        filename, _ = os.path.splitext(os.path.basename(audio_file))\n",
    "        output_filename = os.path.join(output_folder_path, f\"{filename}.txt\")\n",
    "\n",
    "        try:\n",
    "            transcription = whisper(audio_file, chunk_length_s=30)\n",
    "\n",
    "            with open(output_filename, \"w\") as transcript_file:\n",
    "                transcript_file.write(transcription[\"text\"])\n",
    "            print(f\"Transcribed: {audio_file} to {output_filename}\")\n",
    "        except Exception as e:\n",
    "            print(f\"Error transcribing {audio_file}: {e}\")"
   ]
  },
  {
   "cell_type": "code",
   "execution_count": 6,
   "metadata": {
    "tags": []
   },
   "outputs": [
    {
     "name": "stderr",
     "output_type": "stream",
     "text": [
      "Due to a bug fix in https://github.com/huggingface/transformers/pull/28687 transcription using a multilingual Whisper will default to language detection followed by transcription instead of translation to English.This might be a breaking change for your use case. If you want to instead always translate your audio to English, make sure to pass `language='en'`.\n"
     ]
    },
    {
     "name": "stdout",
     "output_type": "stream",
     "text": [
      "Transcribed: audio/Mod02_Sect02.wav to subtitles/Mod02_Sect02.txt\n",
      "Transcribed: audio/Mod03_Sect04_part1.wav to subtitles/Mod03_Sect04_part1.txt\n",
      "Transcribed: audio/Mod06_WrapUp.wav to subtitles/Mod06_WrapUp.txt\n",
      "Transcribed: audio/Mod06_Sect01.wav to subtitles/Mod06_Sect01.txt\n",
      "Transcribed: audio/Mod03_Sect02_part3.wav to subtitles/Mod03_Sect02_part3.txt\n",
      "Transcribed: audio/Mod03_Sect03_part1.wav to subtitles/Mod03_Sect03_part1.txt\n",
      "Transcribed: audio/Mod03_Sect03_part2.wav to subtitles/Mod03_Sect03_part2.txt\n",
      "Transcribed: audio/Mod05_Sect03_part2.wav to subtitles/Mod05_Sect03_part2.txt\n",
      "Transcribed: audio/Mod01_Course_Overview.wav to subtitles/Mod01_Course_Overview.txt\n",
      "Transcribed: audio/Mod02_Sect04.wav to subtitles/Mod02_Sect04.txt\n"
     ]
    },
    {
     "name": "stderr",
     "output_type": "stream",
     "text": [
      "--- Logging error ---\n",
      "Traceback (most recent call last):\n",
      "  File \"/home/ec2-user/anaconda3/envs/pytorch_p310/lib/python3.10/logging/__init__.py\", line 1100, in emit\n",
      "    msg = self.format(record)\n",
      "  File \"/home/ec2-user/anaconda3/envs/pytorch_p310/lib/python3.10/logging/__init__.py\", line 943, in format\n",
      "    return fmt.format(record)\n",
      "  File \"/home/ec2-user/anaconda3/envs/pytorch_p310/lib/python3.10/logging/__init__.py\", line 678, in format\n",
      "    record.message = record.getMessage()\n",
      "  File \"/home/ec2-user/anaconda3/envs/pytorch_p310/lib/python3.10/logging/__init__.py\", line 368, in getMessage\n",
      "    msg = msg % self.args\n",
      "TypeError: not all arguments converted during string formatting\n",
      "Call stack:\n",
      "  File \"/home/ec2-user/anaconda3/envs/pytorch_p310/lib/python3.10/runpy.py\", line 196, in _run_module_as_main\n",
      "    return _run_code(code, main_globals, None,\n",
      "  File \"/home/ec2-user/anaconda3/envs/pytorch_p310/lib/python3.10/runpy.py\", line 86, in _run_code\n",
      "    exec(code, run_globals)\n",
      "  File \"/home/ec2-user/anaconda3/envs/pytorch_p310/lib/python3.10/site-packages/ipykernel_launcher.py\", line 18, in <module>\n",
      "    app.launch_new_instance()\n",
      "  File \"/home/ec2-user/anaconda3/envs/pytorch_p310/lib/python3.10/site-packages/traitlets/config/application.py\", line 1075, in launch_instance\n",
      "    app.start()\n",
      "  File \"/home/ec2-user/anaconda3/envs/pytorch_p310/lib/python3.10/site-packages/ipykernel/kernelapp.py\", line 739, in start\n",
      "    self.io_loop.start()\n",
      "  File \"/home/ec2-user/anaconda3/envs/pytorch_p310/lib/python3.10/site-packages/tornado/platform/asyncio.py\", line 205, in start\n",
      "    self.asyncio_loop.run_forever()\n",
      "  File \"/home/ec2-user/anaconda3/envs/pytorch_p310/lib/python3.10/asyncio/base_events.py\", line 603, in run_forever\n",
      "    self._run_once()\n",
      "  File \"/home/ec2-user/anaconda3/envs/pytorch_p310/lib/python3.10/asyncio/base_events.py\", line 1909, in _run_once\n",
      "    handle._run()\n",
      "  File \"/home/ec2-user/anaconda3/envs/pytorch_p310/lib/python3.10/asyncio/events.py\", line 80, in _run\n",
      "    self._context.run(self._callback, *self._args)\n",
      "  File \"/home/ec2-user/anaconda3/envs/pytorch_p310/lib/python3.10/site-packages/ipykernel/kernelbase.py\", line 542, in dispatch_queue\n",
      "    await self.process_one()\n",
      "  File \"/home/ec2-user/anaconda3/envs/pytorch_p310/lib/python3.10/site-packages/ipykernel/kernelbase.py\", line 531, in process_one\n",
      "    await dispatch(*args)\n",
      "  File \"/home/ec2-user/anaconda3/envs/pytorch_p310/lib/python3.10/site-packages/ipykernel/kernelbase.py\", line 437, in dispatch_shell\n",
      "    await result\n",
      "  File \"/home/ec2-user/anaconda3/envs/pytorch_p310/lib/python3.10/site-packages/ipykernel/ipkernel.py\", line 359, in execute_request\n",
      "    await super().execute_request(stream, ident, parent)\n",
      "  File \"/home/ec2-user/anaconda3/envs/pytorch_p310/lib/python3.10/site-packages/ipykernel/kernelbase.py\", line 775, in execute_request\n",
      "    reply_content = await reply_content\n",
      "  File \"/home/ec2-user/anaconda3/envs/pytorch_p310/lib/python3.10/site-packages/ipykernel/ipkernel.py\", line 446, in do_execute\n",
      "    res = shell.run_cell(\n",
      "  File \"/home/ec2-user/anaconda3/envs/pytorch_p310/lib/python3.10/site-packages/ipykernel/zmqshell.py\", line 549, in run_cell\n",
      "    return super().run_cell(*args, **kwargs)\n",
      "  File \"/home/ec2-user/anaconda3/envs/pytorch_p310/lib/python3.10/site-packages/IPython/core/interactiveshell.py\", line 3075, in run_cell\n",
      "    result = self._run_cell(\n",
      "  File \"/home/ec2-user/anaconda3/envs/pytorch_p310/lib/python3.10/site-packages/IPython/core/interactiveshell.py\", line 3130, in _run_cell\n",
      "    result = runner(coro)\n",
      "  File \"/home/ec2-user/anaconda3/envs/pytorch_p310/lib/python3.10/site-packages/IPython/core/async_helpers.py\", line 129, in _pseudo_sync_runner\n",
      "    coro.send(None)\n",
      "  File \"/home/ec2-user/anaconda3/envs/pytorch_p310/lib/python3.10/site-packages/IPython/core/interactiveshell.py\", line 3334, in run_cell_async\n",
      "    has_raised = await self.run_ast_nodes(code_ast.body, cell_name,\n",
      "  File \"/home/ec2-user/anaconda3/envs/pytorch_p310/lib/python3.10/site-packages/IPython/core/interactiveshell.py\", line 3517, in run_ast_nodes\n",
      "    if await self.run_code(code, result, async_=asy):\n",
      "  File \"/home/ec2-user/anaconda3/envs/pytorch_p310/lib/python3.10/site-packages/IPython/core/interactiveshell.py\", line 3577, in run_code\n",
      "    exec(code_obj, self.user_global_ns, self.user_ns)\n",
      "  File \"/tmp/ipykernel_12532/1785702126.py\", line 1, in <module>\n",
      "    transcribe_audio_folder()\n",
      "  File \"/tmp/ipykernel_12532/1984879712.py\", line 25, in transcribe_audio_folder\n",
      "    transcription = whisper(audio_file, chunk_length_s=30)  # Adjust chunk_length as needed\n",
      "  File \"/home/ec2-user/anaconda3/envs/pytorch_p310/lib/python3.10/site-packages/transformers/pipelines/automatic_speech_recognition.py\", line 285, in __call__\n",
      "    return super().__call__(inputs, **kwargs)\n",
      "  File \"/home/ec2-user/anaconda3/envs/pytorch_p310/lib/python3.10/site-packages/transformers/pipelines/base.py\", line 1167, in __call__\n",
      "    logger.warning_once(\n",
      "  File \"/home/ec2-user/anaconda3/envs/pytorch_p310/lib/python3.10/site-packages/transformers/utils/logging.py\", line 329, in warning_once\n",
      "    self.warning(*args, **kwargs)\n",
      "Message: 'You seem to be using the pipelines sequentially on GPU. In order to maximize efficiency please use a dataset'\n",
      "Arguments: (<class 'UserWarning'>,)\n"
     ]
    },
    {
     "name": "stdout",
     "output_type": "stream",
     "text": [
      "Transcribed: audio/Mod04_WrapUp.wav to subtitles/Mod04_WrapUp.txt\n",
      "Transcribed: audio/Mod02_Sect05.wav to subtitles/Mod02_Sect05.txt\n",
      "Transcribed: audio/Mod03_Sect08.wav to subtitles/Mod03_Sect08.txt\n",
      "Transcribed: audio/Mod04_Sect02_part1.wav to subtitles/Mod04_Sect02_part1.txt\n",
      "Transcribed: audio/Mod05_Sect02_part1_ver2.wav to subtitles/Mod05_Sect02_part1_ver2.txt\n",
      "Transcribed: audio/Mod07_Sect01.wav to subtitles/Mod07_Sect01.txt\n",
      "Transcribed: audio/Mod03_Sect02_part1.wav to subtitles/Mod03_Sect02_part1.txt\n",
      "Transcribed: audio/Mod06_Sect02.wav to subtitles/Mod06_Sect02.txt\n",
      "Transcribed: audio/Mod05_Sect03_part4_ver2.wav to subtitles/Mod05_Sect03_part4_ver2.txt\n",
      "Transcribed: audio/Mod02_Intro.wav to subtitles/Mod02_Intro.txt\n",
      "Transcribed: audio/Mod03_Sect06.wav to subtitles/Mod03_Sect06.txt\n",
      "Error transcribing audio/.wav: Soundfile is either not in the correct format or is malformed. Ensure that the soundfile has a valid audio file extension (e.g. wav, flac or mp3) and is not corrupted. If reading from a remote URL, ensure that the URL is the full address to **download** the audio file.\n",
      "Transcribed: audio/Mod05_Sect03_part3.wav to subtitles/Mod05_Sect03_part3.txt\n",
      "Transcribed: audio/Mod03_Sect02_part2.wav to subtitles/Mod03_Sect02_part2.txt\n",
      "Transcribed: audio/Mod03_Sect01.wav to subtitles/Mod03_Sect01.txt\n",
      "Transcribed: audio/Mod03_Sect07_part3.wav to subtitles/Mod03_Sect07_part3.txt\n",
      "Transcribed: audio/Mod03_Sect05.wav to subtitles/Mod03_Sect05.txt\n",
      "Transcribed: audio/Mod03_Sect07_part1.wav to subtitles/Mod03_Sect07_part1.txt\n",
      "Transcribed: audio/Mod04_Sect02_part3.wav to subtitles/Mod04_Sect02_part3.txt\n",
      "Transcribed: audio/Mod02_Sect01.wav to subtitles/Mod02_Sect01.txt\n",
      "Transcribed: audio/Mod03_Sect03_part3.wav to subtitles/Mod03_Sect03_part3.txt\n",
      "Transcribed: audio/Mod03_WrapUp.wav to subtitles/Mod03_WrapUp.txt\n",
      "Transcribed: audio/Mod05_Intro.wav to subtitles/Mod05_Intro.txt\n",
      "Transcribed: audio/Mod04_Sect01.wav to subtitles/Mod04_Sect01.txt\n",
      "Transcribed: audio/Mod03_Intro.wav to subtitles/Mod03_Intro.txt\n",
      "Transcribed: audio/Mod02_WrapUp.wav to subtitles/Mod02_WrapUp.txt\n",
      "Transcribed: audio/Mod05_Sect01_ver2.wav to subtitles/Mod05_Sect01_ver2.txt\n",
      "Transcribed: audio/Mod05_Sect03_part1.wav to subtitles/Mod05_Sect03_part1.txt\n",
      "Transcribed: audio/Mod03_Sect04_part3.wav to subtitles/Mod03_Sect04_part3.txt\n",
      "Transcribed: audio/Mod06_Intro.wav to subtitles/Mod06_Intro.txt\n",
      "Transcribed: audio/Mod05_Sect02_part2.wav to subtitles/Mod05_Sect02_part2.txt\n",
      "Transcribed: audio/Mod05_WrapUp_ver2.wav to subtitles/Mod05_WrapUp_ver2.txt\n",
      "Transcribed: audio/Mod03_Sect07_part2.wav to subtitles/Mod03_Sect07_part2.txt\n",
      "Transcribed: audio/Mod02_Sect03.wav to subtitles/Mod02_Sect03.txt\n",
      "Transcribed: audio/Mod04_Intro.wav to subtitles/Mod04_Intro.txt\n",
      "Transcribed: audio/Mod04_Sect02_part2.wav to subtitles/Mod04_Sect02_part2.txt\n",
      "Transcribed: audio/Mod03_Sect04_part2.wav to subtitles/Mod03_Sect04_part2.txt\n"
     ]
    }
   ],
   "source": [
    "transcribe_audio_folder()"
   ]
  },
  {
   "cell_type": "markdown",
   "metadata": {},
   "source": [
    "## 2. Normalizing the text\n",
    "([Go to top](#Capstone-8:-Bringing-It-All-Together))\n",
    "\n",
    "Use this section to perform any text normalization steps that are necessary for your solution."
   ]
  },
  {
   "cell_type": "code",
   "execution_count": 1,
   "metadata": {
    "tags": []
   },
   "outputs": [
    {
     "name": "stdout",
     "output_type": "stream",
     "text": [
      "Requirement already satisfied: nltk in /home/ec2-user/anaconda3/envs/python3/lib/python3.10/site-packages (3.8.1)\n",
      "Requirement already satisfied: numpy in /home/ec2-user/anaconda3/envs/python3/lib/python3.10/site-packages (1.22.4)\n",
      "Collecting spacy\n",
      "  Downloading spacy-3.7.4-cp310-cp310-manylinux_2_17_x86_64.manylinux2014_x86_64.whl.metadata (27 kB)\n",
      "Requirement already satisfied: click in /home/ec2-user/anaconda3/envs/python3/lib/python3.10/site-packages (from nltk) (8.1.7)\n",
      "Requirement already satisfied: joblib in /home/ec2-user/anaconda3/envs/python3/lib/python3.10/site-packages (from nltk) (1.3.2)\n",
      "Requirement already satisfied: regex>=2021.8.3 in /home/ec2-user/anaconda3/envs/python3/lib/python3.10/site-packages (from nltk) (2023.12.25)\n",
      "Requirement already satisfied: tqdm in /home/ec2-user/anaconda3/envs/python3/lib/python3.10/site-packages (from nltk) (4.66.2)\n",
      "Collecting spacy-legacy<3.1.0,>=3.0.11 (from spacy)\n",
      "  Downloading spacy_legacy-3.0.12-py2.py3-none-any.whl.metadata (2.8 kB)\n",
      "Collecting spacy-loggers<2.0.0,>=1.0.0 (from spacy)\n",
      "  Downloading spacy_loggers-1.0.5-py3-none-any.whl.metadata (23 kB)\n",
      "Collecting murmurhash<1.1.0,>=0.28.0 (from spacy)\n",
      "  Downloading murmurhash-1.0.10-cp310-cp310-manylinux_2_5_x86_64.manylinux1_x86_64.manylinux_2_17_x86_64.manylinux2014_x86_64.whl.metadata (2.0 kB)\n",
      "Collecting cymem<2.1.0,>=2.0.2 (from spacy)\n",
      "  Downloading cymem-2.0.8-cp310-cp310-manylinux_2_17_x86_64.manylinux2014_x86_64.whl.metadata (8.4 kB)\n",
      "Collecting preshed<3.1.0,>=3.0.2 (from spacy)\n",
      "  Downloading preshed-3.0.9-cp310-cp310-manylinux_2_5_x86_64.manylinux1_x86_64.manylinux_2_17_x86_64.manylinux2014_x86_64.whl.metadata (2.2 kB)\n",
      "Collecting thinc<8.3.0,>=8.2.2 (from spacy)\n",
      "  Downloading thinc-8.2.3-cp310-cp310-manylinux_2_17_x86_64.manylinux2014_x86_64.whl.metadata (15 kB)\n",
      "Collecting wasabi<1.2.0,>=0.9.1 (from spacy)\n",
      "  Downloading wasabi-1.1.2-py3-none-any.whl.metadata (28 kB)\n",
      "Collecting srsly<3.0.0,>=2.4.3 (from spacy)\n",
      "  Downloading srsly-2.4.8-cp310-cp310-manylinux_2_17_x86_64.manylinux2014_x86_64.whl.metadata (20 kB)\n",
      "Collecting catalogue<2.1.0,>=2.0.6 (from spacy)\n",
      "  Downloading catalogue-2.0.10-py3-none-any.whl.metadata (14 kB)\n",
      "Collecting weasel<0.4.0,>=0.1.0 (from spacy)\n",
      "  Downloading weasel-0.3.4-py3-none-any.whl.metadata (4.7 kB)\n",
      "Collecting typer<0.10.0,>=0.3.0 (from spacy)\n",
      "  Downloading typer-0.9.4-py3-none-any.whl.metadata (14 kB)\n",
      "Collecting smart-open<7.0.0,>=5.2.1 (from spacy)\n",
      "  Downloading smart_open-6.4.0-py3-none-any.whl.metadata (21 kB)\n",
      "Requirement already satisfied: requests<3.0.0,>=2.13.0 in /home/ec2-user/anaconda3/envs/python3/lib/python3.10/site-packages (from spacy) (2.31.0)\n",
      "Collecting pydantic!=1.8,!=1.8.1,<3.0.0,>=1.7.4 (from spacy)\n",
      "  Downloading pydantic-2.7.0-py3-none-any.whl.metadata (103 kB)\n",
      "\u001b[2K     \u001b[90m━━━━━━━━━━━━━━━━━━━━━━━━━━━━━━━━━━━━━━\u001b[0m \u001b[32m103.4/103.4 kB\u001b[0m \u001b[31m21.8 MB/s\u001b[0m eta \u001b[36m0:00:00\u001b[0m\n",
      "\u001b[?25hRequirement already satisfied: jinja2 in /home/ec2-user/anaconda3/envs/python3/lib/python3.10/site-packages (from spacy) (3.1.3)\n",
      "Requirement already satisfied: setuptools in /home/ec2-user/anaconda3/envs/python3/lib/python3.10/site-packages (from spacy) (69.1.0)\n",
      "Requirement already satisfied: packaging>=20.0 in /home/ec2-user/anaconda3/envs/python3/lib/python3.10/site-packages (from spacy) (21.3)\n",
      "Collecting langcodes<4.0.0,>=3.2.0 (from spacy)\n",
      "  Downloading langcodes-3.3.0-py3-none-any.whl.metadata (29 kB)\n",
      "Requirement already satisfied: pyparsing!=3.0.5,>=2.0.2 in /home/ec2-user/anaconda3/envs/python3/lib/python3.10/site-packages (from packaging>=20.0->spacy) (3.1.1)\n",
      "Collecting annotated-types>=0.4.0 (from pydantic!=1.8,!=1.8.1,<3.0.0,>=1.7.4->spacy)\n",
      "  Downloading annotated_types-0.6.0-py3-none-any.whl.metadata (12 kB)\n",
      "Collecting pydantic-core==2.18.1 (from pydantic!=1.8,!=1.8.1,<3.0.0,>=1.7.4->spacy)\n",
      "  Downloading pydantic_core-2.18.1-cp310-cp310-manylinux_2_17_x86_64.manylinux2014_x86_64.whl.metadata (6.5 kB)\n",
      "Requirement already satisfied: typing-extensions>=4.6.1 in /home/ec2-user/anaconda3/envs/python3/lib/python3.10/site-packages (from pydantic!=1.8,!=1.8.1,<3.0.0,>=1.7.4->spacy) (4.9.0)\n",
      "Requirement already satisfied: charset-normalizer<4,>=2 in /home/ec2-user/anaconda3/envs/python3/lib/python3.10/site-packages (from requests<3.0.0,>=2.13.0->spacy) (3.3.2)\n",
      "Requirement already satisfied: idna<4,>=2.5 in /home/ec2-user/anaconda3/envs/python3/lib/python3.10/site-packages (from requests<3.0.0,>=2.13.0->spacy) (3.6)\n",
      "Requirement already satisfied: urllib3<3,>=1.21.1 in /home/ec2-user/anaconda3/envs/python3/lib/python3.10/site-packages (from requests<3.0.0,>=2.13.0->spacy) (2.0.7)\n",
      "Requirement already satisfied: certifi>=2017.4.17 in /home/ec2-user/anaconda3/envs/python3/lib/python3.10/site-packages (from requests<3.0.0,>=2.13.0->spacy) (2024.2.2)\n",
      "Collecting blis<0.8.0,>=0.7.8 (from thinc<8.3.0,>=8.2.2->spacy)\n",
      "  Downloading blis-0.7.11-cp310-cp310-manylinux_2_17_x86_64.manylinux2014_x86_64.whl.metadata (7.4 kB)\n",
      "Collecting confection<1.0.0,>=0.0.1 (from thinc<8.3.0,>=8.2.2->spacy)\n",
      "  Downloading confection-0.1.4-py3-none-any.whl.metadata (19 kB)\n",
      "Collecting cloudpathlib<0.17.0,>=0.7.0 (from weasel<0.4.0,>=0.1.0->spacy)\n",
      "  Downloading cloudpathlib-0.16.0-py3-none-any.whl.metadata (14 kB)\n",
      "Requirement already satisfied: MarkupSafe>=2.0 in /home/ec2-user/anaconda3/envs/python3/lib/python3.10/site-packages (from jinja2->spacy) (2.1.5)\n",
      "Downloading spacy-3.7.4-cp310-cp310-manylinux_2_17_x86_64.manylinux2014_x86_64.whl (6.6 MB)\n",
      "\u001b[2K   \u001b[90m━━━━━━━━━━━━━━━━━━━━━━━━━━━━━━━━━━━━━━━━\u001b[0m \u001b[32m6.6/6.6 MB\u001b[0m \u001b[31m45.7 MB/s\u001b[0m eta \u001b[36m0:00:00\u001b[0m:00:01\u001b[0m00:01\u001b[0m\n",
      "\u001b[?25hDownloading catalogue-2.0.10-py3-none-any.whl (17 kB)\n",
      "Downloading cymem-2.0.8-cp310-cp310-manylinux_2_17_x86_64.manylinux2014_x86_64.whl (46 kB)\n",
      "\u001b[2K   \u001b[90m━━━━━━━━━━━━━━━━━━━━━━━━━━━━━━━━━━━━━━━━\u001b[0m \u001b[32m46.1/46.1 kB\u001b[0m \u001b[31m8.6 MB/s\u001b[0m eta \u001b[36m0:00:00\u001b[0m\n",
      "\u001b[?25hDownloading langcodes-3.3.0-py3-none-any.whl (181 kB)\n",
      "\u001b[2K   \u001b[90m━━━━━━━━━━━━━━━━━━━━━━━━━━━━━━━━━━━━━━━━\u001b[0m \u001b[32m181.6/181.6 kB\u001b[0m \u001b[31m28.5 MB/s\u001b[0m eta \u001b[36m0:00:00\u001b[0m\n",
      "\u001b[?25hDownloading murmurhash-1.0.10-cp310-cp310-manylinux_2_5_x86_64.manylinux1_x86_64.manylinux_2_17_x86_64.manylinux2014_x86_64.whl (29 kB)\n",
      "Downloading preshed-3.0.9-cp310-cp310-manylinux_2_5_x86_64.manylinux1_x86_64.manylinux_2_17_x86_64.manylinux2014_x86_64.whl (156 kB)\n",
      "\u001b[2K   \u001b[90m━━━━━━━━━━━━━━━━━━━━━━━━━━━━━━━━━━━━━━━━\u001b[0m \u001b[32m156.9/156.9 kB\u001b[0m \u001b[31m19.8 MB/s\u001b[0m eta \u001b[36m0:00:00\u001b[0m\n",
      "\u001b[?25hDownloading pydantic-2.7.0-py3-none-any.whl (407 kB)\n",
      "\u001b[2K   \u001b[90m━━━━━━━━━━━━━━━━━━━━━━━━━━━━━━━━━━━━━━━━\u001b[0m \u001b[32m407.9/407.9 kB\u001b[0m \u001b[31m41.1 MB/s\u001b[0m eta \u001b[36m0:00:00\u001b[0m\n",
      "\u001b[?25hDownloading pydantic_core-2.18.1-cp310-cp310-manylinux_2_17_x86_64.manylinux2014_x86_64.whl (2.1 MB)\n",
      "\u001b[2K   \u001b[90m━━━━━━━━━━━━━━━━━━━━━━━━━━━━━━━━━━━━━━━━\u001b[0m \u001b[32m2.1/2.1 MB\u001b[0m \u001b[31m39.5 MB/s\u001b[0m eta \u001b[36m0:00:00\u001b[0m:00:01\u001b[0m\n",
      "\u001b[?25hDownloading smart_open-6.4.0-py3-none-any.whl (57 kB)\n",
      "\u001b[2K   \u001b[90m━━━━━━━━━━━━━━━━━━━━━━━━━━━━━━━━━━━━━━━━\u001b[0m \u001b[32m57.0/57.0 kB\u001b[0m \u001b[31m12.1 MB/s\u001b[0m eta \u001b[36m0:00:00\u001b[0m\n",
      "\u001b[?25hDownloading spacy_legacy-3.0.12-py2.py3-none-any.whl (29 kB)\n",
      "Downloading spacy_loggers-1.0.5-py3-none-any.whl (22 kB)\n",
      "Downloading srsly-2.4.8-cp310-cp310-manylinux_2_17_x86_64.manylinux2014_x86_64.whl (493 kB)\n",
      "\u001b[2K   \u001b[90m━━━━━━━━━━━━━━━━━━━━━━━━━━━━━━━━━━━━━━━━\u001b[0m \u001b[32m493.0/493.0 kB\u001b[0m \u001b[31m13.5 MB/s\u001b[0m eta \u001b[36m0:00:00\u001b[0m00:01\u001b[0m\n",
      "\u001b[?25hDownloading thinc-8.2.3-cp310-cp310-manylinux_2_17_x86_64.manylinux2014_x86_64.whl (922 kB)\n",
      "\u001b[2K   \u001b[90m━━━━━━━━━━━━━━━━━━━━━━━━━━━━━━━━━━━━━━━━\u001b[0m \u001b[32m922.3/922.3 kB\u001b[0m \u001b[31m23.4 MB/s\u001b[0m eta \u001b[36m0:00:00\u001b[0m00:01\u001b[0m\n",
      "\u001b[?25hDownloading typer-0.9.4-py3-none-any.whl (45 kB)\n",
      "\u001b[2K   \u001b[90m━━━━━━━━━━━━━━━━━━━━━━━━━━━━━━━━━━━━━━━━\u001b[0m \u001b[32m46.0/46.0 kB\u001b[0m \u001b[31m8.2 MB/s\u001b[0m eta \u001b[36m0:00:00\u001b[0m\n",
      "\u001b[?25hDownloading wasabi-1.1.2-py3-none-any.whl (27 kB)\n",
      "Downloading weasel-0.3.4-py3-none-any.whl (50 kB)\n",
      "\u001b[2K   \u001b[90m━━━━━━━━━━━━━━━━━━━━━━━━━━━━━━━━━━━━━━━━\u001b[0m \u001b[32m50.1/50.1 kB\u001b[0m \u001b[31m8.3 MB/s\u001b[0m eta \u001b[36m0:00:00\u001b[0m\n",
      "\u001b[?25hDownloading annotated_types-0.6.0-py3-none-any.whl (12 kB)\n",
      "Downloading blis-0.7.11-cp310-cp310-manylinux_2_17_x86_64.manylinux2014_x86_64.whl (10.2 MB)\n",
      "\u001b[2K   \u001b[90m━━━━━━━━━━━━━━━━━━━━━━━━━━━━━━━━━━━━━━━━\u001b[0m \u001b[32m10.2/10.2 MB\u001b[0m \u001b[31m55.0 MB/s\u001b[0m eta \u001b[36m0:00:00\u001b[0m:00:01\u001b[0m0:01\u001b[0m\n",
      "\u001b[?25hDownloading cloudpathlib-0.16.0-py3-none-any.whl (45 kB)\n",
      "\u001b[2K   \u001b[90m━━━━━━━━━━━━━━━━━━━━━━━━━━━━━━━━━━━━━━━━\u001b[0m \u001b[32m45.0/45.0 kB\u001b[0m \u001b[31m9.2 MB/s\u001b[0m eta \u001b[36m0:00:00\u001b[0m\n",
      "\u001b[?25hDownloading confection-0.1.4-py3-none-any.whl (35 kB)\n",
      "Installing collected packages: cymem, wasabi, typer, spacy-loggers, spacy-legacy, smart-open, pydantic-core, murmurhash, langcodes, cloudpathlib, catalogue, blis, annotated-types, srsly, pydantic, preshed, confection, weasel, thinc, spacy\n",
      "Successfully installed annotated-types-0.6.0 blis-0.7.11 catalogue-2.0.10 cloudpathlib-0.16.0 confection-0.1.4 cymem-2.0.8 langcodes-3.3.0 murmurhash-1.0.10 preshed-3.0.9 pydantic-2.7.0 pydantic-core-2.18.1 smart-open-6.4.0 spacy-3.7.4 spacy-legacy-3.0.12 spacy-loggers-1.0.5 srsly-2.4.8 thinc-8.2.3 typer-0.9.4 wasabi-1.1.2 weasel-0.3.4\n"
     ]
    }
   ],
   "source": [
    "!pip install nltk numpy spacy"
   ]
  },
  {
   "cell_type": "code",
   "execution_count": 2,
   "metadata": {
    "tags": []
   },
   "outputs": [
    {
     "name": "stdout",
     "output_type": "stream",
     "text": [
      "Collecting en-core-web-sm==3.7.1\n",
      "  Downloading https://github.com/explosion/spacy-models/releases/download/en_core_web_sm-3.7.1/en_core_web_sm-3.7.1-py3-none-any.whl (12.8 MB)\n",
      "\u001b[2K     \u001b[90m━━━━━━━━━━━━━━━━━━━━━━━━━━━━━━━━━━━━━━━━\u001b[0m \u001b[32m12.8/12.8 MB\u001b[0m \u001b[31m41.2 MB/s\u001b[0m eta \u001b[36m0:00:00\u001b[0m00:01\u001b[0m00:01\u001b[0m\n",
      "\u001b[?25hRequirement already satisfied: spacy<3.8.0,>=3.7.2 in /home/ec2-user/anaconda3/envs/python3/lib/python3.10/site-packages (from en-core-web-sm==3.7.1) (3.7.4)\n",
      "Requirement already satisfied: spacy-legacy<3.1.0,>=3.0.11 in /home/ec2-user/anaconda3/envs/python3/lib/python3.10/site-packages (from spacy<3.8.0,>=3.7.2->en-core-web-sm==3.7.1) (3.0.12)\n",
      "Requirement already satisfied: spacy-loggers<2.0.0,>=1.0.0 in /home/ec2-user/anaconda3/envs/python3/lib/python3.10/site-packages (from spacy<3.8.0,>=3.7.2->en-core-web-sm==3.7.1) (1.0.5)\n",
      "Requirement already satisfied: murmurhash<1.1.0,>=0.28.0 in /home/ec2-user/anaconda3/envs/python3/lib/python3.10/site-packages (from spacy<3.8.0,>=3.7.2->en-core-web-sm==3.7.1) (1.0.10)\n",
      "Requirement already satisfied: cymem<2.1.0,>=2.0.2 in /home/ec2-user/anaconda3/envs/python3/lib/python3.10/site-packages (from spacy<3.8.0,>=3.7.2->en-core-web-sm==3.7.1) (2.0.8)\n",
      "Requirement already satisfied: preshed<3.1.0,>=3.0.2 in /home/ec2-user/anaconda3/envs/python3/lib/python3.10/site-packages (from spacy<3.8.0,>=3.7.2->en-core-web-sm==3.7.1) (3.0.9)\n",
      "Requirement already satisfied: thinc<8.3.0,>=8.2.2 in /home/ec2-user/anaconda3/envs/python3/lib/python3.10/site-packages (from spacy<3.8.0,>=3.7.2->en-core-web-sm==3.7.1) (8.2.3)\n",
      "Requirement already satisfied: wasabi<1.2.0,>=0.9.1 in /home/ec2-user/anaconda3/envs/python3/lib/python3.10/site-packages (from spacy<3.8.0,>=3.7.2->en-core-web-sm==3.7.1) (1.1.2)\n",
      "Requirement already satisfied: srsly<3.0.0,>=2.4.3 in /home/ec2-user/anaconda3/envs/python3/lib/python3.10/site-packages (from spacy<3.8.0,>=3.7.2->en-core-web-sm==3.7.1) (2.4.8)\n",
      "Requirement already satisfied: catalogue<2.1.0,>=2.0.6 in /home/ec2-user/anaconda3/envs/python3/lib/python3.10/site-packages (from spacy<3.8.0,>=3.7.2->en-core-web-sm==3.7.1) (2.0.10)\n",
      "Requirement already satisfied: weasel<0.4.0,>=0.1.0 in /home/ec2-user/anaconda3/envs/python3/lib/python3.10/site-packages (from spacy<3.8.0,>=3.7.2->en-core-web-sm==3.7.1) (0.3.4)\n",
      "Requirement already satisfied: typer<0.10.0,>=0.3.0 in /home/ec2-user/anaconda3/envs/python3/lib/python3.10/site-packages (from spacy<3.8.0,>=3.7.2->en-core-web-sm==3.7.1) (0.9.4)\n",
      "Requirement already satisfied: smart-open<7.0.0,>=5.2.1 in /home/ec2-user/anaconda3/envs/python3/lib/python3.10/site-packages (from spacy<3.8.0,>=3.7.2->en-core-web-sm==3.7.1) (6.4.0)\n",
      "Requirement already satisfied: tqdm<5.0.0,>=4.38.0 in /home/ec2-user/anaconda3/envs/python3/lib/python3.10/site-packages (from spacy<3.8.0,>=3.7.2->en-core-web-sm==3.7.1) (4.66.2)\n",
      "Requirement already satisfied: requests<3.0.0,>=2.13.0 in /home/ec2-user/anaconda3/envs/python3/lib/python3.10/site-packages (from spacy<3.8.0,>=3.7.2->en-core-web-sm==3.7.1) (2.31.0)\n",
      "Requirement already satisfied: pydantic!=1.8,!=1.8.1,<3.0.0,>=1.7.4 in /home/ec2-user/anaconda3/envs/python3/lib/python3.10/site-packages (from spacy<3.8.0,>=3.7.2->en-core-web-sm==3.7.1) (2.7.0)\n",
      "Requirement already satisfied: jinja2 in /home/ec2-user/anaconda3/envs/python3/lib/python3.10/site-packages (from spacy<3.8.0,>=3.7.2->en-core-web-sm==3.7.1) (3.1.3)\n",
      "Requirement already satisfied: setuptools in /home/ec2-user/anaconda3/envs/python3/lib/python3.10/site-packages (from spacy<3.8.0,>=3.7.2->en-core-web-sm==3.7.1) (69.1.0)\n",
      "Requirement already satisfied: packaging>=20.0 in /home/ec2-user/anaconda3/envs/python3/lib/python3.10/site-packages (from spacy<3.8.0,>=3.7.2->en-core-web-sm==3.7.1) (21.3)\n",
      "Requirement already satisfied: langcodes<4.0.0,>=3.2.0 in /home/ec2-user/anaconda3/envs/python3/lib/python3.10/site-packages (from spacy<3.8.0,>=3.7.2->en-core-web-sm==3.7.1) (3.3.0)\n",
      "Requirement already satisfied: numpy>=1.19.0 in /home/ec2-user/anaconda3/envs/python3/lib/python3.10/site-packages (from spacy<3.8.0,>=3.7.2->en-core-web-sm==3.7.1) (1.22.4)\n",
      "Requirement already satisfied: pyparsing!=3.0.5,>=2.0.2 in /home/ec2-user/anaconda3/envs/python3/lib/python3.10/site-packages (from packaging>=20.0->spacy<3.8.0,>=3.7.2->en-core-web-sm==3.7.1) (3.1.1)\n",
      "Requirement already satisfied: annotated-types>=0.4.0 in /home/ec2-user/anaconda3/envs/python3/lib/python3.10/site-packages (from pydantic!=1.8,!=1.8.1,<3.0.0,>=1.7.4->spacy<3.8.0,>=3.7.2->en-core-web-sm==3.7.1) (0.6.0)\n",
      "Requirement already satisfied: pydantic-core==2.18.1 in /home/ec2-user/anaconda3/envs/python3/lib/python3.10/site-packages (from pydantic!=1.8,!=1.8.1,<3.0.0,>=1.7.4->spacy<3.8.0,>=3.7.2->en-core-web-sm==3.7.1) (2.18.1)\n",
      "Requirement already satisfied: typing-extensions>=4.6.1 in /home/ec2-user/anaconda3/envs/python3/lib/python3.10/site-packages (from pydantic!=1.8,!=1.8.1,<3.0.0,>=1.7.4->spacy<3.8.0,>=3.7.2->en-core-web-sm==3.7.1) (4.9.0)\n",
      "Requirement already satisfied: charset-normalizer<4,>=2 in /home/ec2-user/anaconda3/envs/python3/lib/python3.10/site-packages (from requests<3.0.0,>=2.13.0->spacy<3.8.0,>=3.7.2->en-core-web-sm==3.7.1) (3.3.2)\n",
      "Requirement already satisfied: idna<4,>=2.5 in /home/ec2-user/anaconda3/envs/python3/lib/python3.10/site-packages (from requests<3.0.0,>=2.13.0->spacy<3.8.0,>=3.7.2->en-core-web-sm==3.7.1) (3.6)\n",
      "Requirement already satisfied: urllib3<3,>=1.21.1 in /home/ec2-user/anaconda3/envs/python3/lib/python3.10/site-packages (from requests<3.0.0,>=2.13.0->spacy<3.8.0,>=3.7.2->en-core-web-sm==3.7.1) (2.0.7)\n",
      "Requirement already satisfied: certifi>=2017.4.17 in /home/ec2-user/anaconda3/envs/python3/lib/python3.10/site-packages (from requests<3.0.0,>=2.13.0->spacy<3.8.0,>=3.7.2->en-core-web-sm==3.7.1) (2024.2.2)\n",
      "Requirement already satisfied: blis<0.8.0,>=0.7.8 in /home/ec2-user/anaconda3/envs/python3/lib/python3.10/site-packages (from thinc<8.3.0,>=8.2.2->spacy<3.8.0,>=3.7.2->en-core-web-sm==3.7.1) (0.7.11)\n",
      "Requirement already satisfied: confection<1.0.0,>=0.0.1 in /home/ec2-user/anaconda3/envs/python3/lib/python3.10/site-packages (from thinc<8.3.0,>=8.2.2->spacy<3.8.0,>=3.7.2->en-core-web-sm==3.7.1) (0.1.4)\n",
      "Requirement already satisfied: click<9.0.0,>=7.1.1 in /home/ec2-user/anaconda3/envs/python3/lib/python3.10/site-packages (from typer<0.10.0,>=0.3.0->spacy<3.8.0,>=3.7.2->en-core-web-sm==3.7.1) (8.1.7)\n",
      "Requirement already satisfied: cloudpathlib<0.17.0,>=0.7.0 in /home/ec2-user/anaconda3/envs/python3/lib/python3.10/site-packages (from weasel<0.4.0,>=0.1.0->spacy<3.8.0,>=3.7.2->en-core-web-sm==3.7.1) (0.16.0)\n",
      "Requirement already satisfied: MarkupSafe>=2.0 in /home/ec2-user/anaconda3/envs/python3/lib/python3.10/site-packages (from jinja2->spacy<3.8.0,>=3.7.2->en-core-web-sm==3.7.1) (2.1.5)\n",
      "Installing collected packages: en-core-web-sm\n",
      "Successfully installed en-core-web-sm-3.7.1\n",
      "\u001b[38;5;2m✔ Download and installation successful\u001b[0m\n",
      "You can now load the package via spacy.load('en_core_web_sm')\n"
     ]
    }
   ],
   "source": [
    "!python -m spacy download en_core_web_sm"
   ]
  },
  {
   "cell_type": "code",
   "execution_count": 3,
   "metadata": {
    "tags": []
   },
   "outputs": [],
   "source": [
    "import nltk\n",
    "from nltk import FreqDist\n",
    "from collections import Counter\n",
    "import numpy as np\n",
    "import spacy\n",
    "import os"
   ]
  },
  {
   "cell_type": "code",
   "execution_count": 5,
   "metadata": {
    "tags": []
   },
   "outputs": [],
   "source": [
    "def preprocess_text(text_file_path):\n",
    "\n",
    "    nltk.download('punkt', quiet=True)\n",
    "    nltk.download('stopwords', quiet=True)\n",
    "\n",
    "    with open(text_file_path, 'r') as f:\n",
    "        text = f.read()\n",
    "\n",
    "    normalized_text = text.lower()\n",
    "    normalized_text = ''.join([c for c in normalized_text if c.isalnum() or c.isspace()])\n",
    "    stopwords = nltk.corpus.stopwords.words('english')\n",
    "    normalized_text = ' '.join([word for word in normalized_text.split() if word not in stopwords])\n",
    "\n",
    "    return normalized_text"
   ]
  },
  {
   "cell_type": "markdown",
   "metadata": {},
   "source": [
    "## 3. Extracting key phrases and topics\n",
    "([Go to top](#Capstone-8:-Bringing-It-All-Together))\n",
    "\n",
    "Use this section to extract the key phrases and topics from the videos."
   ]
  },
  {
   "cell_type": "code",
   "execution_count": 6,
   "metadata": {
    "tags": []
   },
   "outputs": [],
   "source": [
    "def tf_idf(text):\n",
    "\n",
    "    word_counts = FreqDist(text.split())\n",
    "\n",
    "    total_words = len(text.split())\n",
    "\n",
    "    documents = [text]\n",
    "\n",
    "    tf_idf_scores = {}\n",
    "\n",
    "    for word, count in word_counts.items():\n",
    "        tf = count / total_words \n",
    "        df = 0\n",
    "\n",
    "        for doc in documents:\n",
    "            if word in doc:\n",
    "                df += 1\n",
    "\n",
    "        idf = np.log((len(documents) / (df + 1)))\n",
    "\n",
    "        tf_idf_scores[word] = tf * idf\n",
    "\n",
    "    return tf_idf_scores"
   ]
  },
  {
   "cell_type": "code",
   "execution_count": 7,
   "metadata": {
    "tags": []
   },
   "outputs": [],
   "source": [
    "def extract_key_phrases(text):\n",
    "\n",
    "    nlp = spacy.load('en_core_web_sm')  # Load spaCy model\n",
    "    doc = nlp(text)\n",
    "    phrases = []\n",
    "    for noun_phrase in doc.noun_chunks:\n",
    "        phrases.append(noun_phrase.text)\n",
    "    return phrases"
   ]
  },
  {
   "cell_type": "code",
   "execution_count": 8,
   "metadata": {
    "tags": []
   },
   "outputs": [],
   "source": [
    "def analyze_subtitles(subtitles_folder=\"subtitles\"):\n",
    "    all_results = {}\n",
    "    for filename in os.listdir(subtitles_folder):\n",
    "        if filename.endswith(\".txt\"):\n",
    "            file_path = os.path.join(subtitles_folder, filename)\n",
    "            normalized_text = preprocess_text(file_path)\n",
    "            tf_idf_scores = tf_idf(normalized_text)\n",
    "            top_10_keywords = FreqDist(tf_idf_scores).most_common(10)  \n",
    "            key_phrases = extract_key_phrases(normalized_text)\n",
    "\n",
    "            all_results[filename] = {\n",
    "                  \"top_keywords\": top_10_keywords,\n",
    "                  \"key_phrases\": key_phrases\n",
    "              }\n",
    "\n",
    "    return all_results"
   ]
  },
  {
   "cell_type": "code",
   "execution_count": 9,
   "metadata": {
    "tags": []
   },
   "outputs": [],
   "source": [
    "all_analysis_results = analyze_subtitles()"
   ]
  },
  {
   "cell_type": "code",
   "execution_count": 11,
   "metadata": {
    "tags": []
   },
   "outputs": [],
   "source": [
    "def search_videos(all_results, search_query):\n",
    "\n",
    "    matching_videos = []\n",
    "    query_keywords = [word.strip() for word in search_query.split(\",\") if word.strip()]\n",
    "    query_phrases = [phrase.strip() for phrase in search_query.split(\",\") if phrase.strip()]\n",
    "\n",
    "    for filename, video_data in all_results.items():\n",
    "\n",
    "        top_keywords = [word for word, _ in video_data[\"top_keywords\"]]\n",
    "        key_phrases = video_data[\"key_phrases\"]\n",
    "\n",
    "        keyword_match = any(keyword in top_keywords for keyword in query_keywords)\n",
    "\n",
    "        phrase_match = any(phrase in key_phrases for phrase in query_phrases)\n",
    "\n",
    "        if keyword_match or phrase_match:\n",
    "            matching_videos.append(filename)\n",
    "\n",
    "    return matching_videos"
   ]
  },
  {
   "cell_type": "markdown",
   "metadata": {},
   "source": [
    "## 4. Creating the dashboard\n",
    "([Go to top](#Capstone-8:-Bringing-It-All-Together))\n",
    "\n",
    "Use this section to create the dashboard for your solution."
   ]
  },
  {
   "cell_type": "code",
   "execution_count": 12,
   "metadata": {
    "tags": []
   },
   "outputs": [],
   "source": [
    "import boto3\n",
    "s3_client=boto3.client('s3')\n",
    "bucket_name = 'your-bucket-name'\n",
    "prefix = 'CUR-TF-200-ACMNLP-1/video/'"
   ]
  },
  {
   "cell_type": "code",
   "execution_count": 107,
   "metadata": {
    "tags": []
   },
   "outputs": [],
   "source": [
    "def get_urls(s3_client, bucket_name, prefix, key):\n",
    "    response = s3_client.list_objects_v2(Bucket = bucket_name, Prefix=prefix)\n",
    "    presigned_urls = []\n",
    "    obj_keys = []\n",
    "    key = key[:-4]\n",
    "    for item in response.get('Contents', []):\n",
    "        file_key = item['Key']\n",
    "        modified_key = file_key.replace(' ', '_')\n",
    "        if key in modified_key:\n",
    "            presigned_url = s3_client.generate_presigned_url(\n",
    "                ClientMethod='get_object',\n",
    "                Params={'Bucket': bucket_name, 'Key': file_key},\n",
    "                ExpiresIn=3600  \n",
    "                )\n",
    "            presigned_urls.append(presigned_url)\n",
    "            file_key = file_key.split('/')[-1][:-4]\n",
    "            obj_keys.append(file_key)\n",
    "\n",
    "    return [presigned_urls, obj_keys]"
   ]
  },
  {
   "cell_type": "code",
   "execution_count": 108,
   "metadata": {
    "tags": []
   },
   "outputs": [],
   "source": [
    "from ipywidgets import interact, Layout, Textarea, Button, Label, VBox, HTML"
   ]
  },
  {
   "cell_type": "code",
   "execution_count": 112,
   "metadata": {
    "tags": []
   },
   "outputs": [],
   "source": [
    "initial_video_list = list(all_analysis_results.keys())\n",
    "video_list_sorted = initial_video_list.copy()\n",
    "video_list_sorted.sort()\n",
    "\n",
    "search_bar = Textarea(description=\"Search Keywords or Phrases (separated by commas)\", value=\"\")\n",
    "\n",
    "search_button = Button(description=\"Search\")\n",
    "\n",
    "video_list_output = HTML(layout={'width': '100%'})\n",
    "\n",
    "links_html = ''\n",
    "for key in video_list_sorted:\n",
    "    video_url, video_name = get_urls(s3_client, bucket_name, prefix, key)\n",
    "    link_html = f'<h3><a href=\\\"{video_url[0]}\\\"  target=\\'blank\\'>{video_name[0]}</a></h3><br>'\n",
    "    links_html += link_html\n",
    "video_list_output.value = links_html"
   ]
  },
  {
   "cell_type": "code",
   "execution_count": 113,
   "metadata": {
    "tags": []
   },
   "outputs": [
    {
     "data": {
      "application/vnd.jupyter.widget-view+json": {
       "model_id": "5da02e57f51a4216bfea2df824f2db7c",
       "version_major": 2,
       "version_minor": 0
      },
      "text/plain": [
       "VBox(children=(Textarea(value='', description='Search Keywords or Phrases (separated by commas)'), Button(desc…"
      ]
     },
     "metadata": {},
     "output_type": "display_data"
    }
   ],
   "source": [
    "def update_video_list(search_query):\n",
    "\n",
    "    matching_videos = search_videos(all_analysis_results, search_bar.value)\n",
    "    matching_videos_sorted = matching_videos.copy()\n",
    "    matching_videos_sorted.sort()\n",
    "    links_html = \"\"\n",
    "    for key in matching_videos_sorted:\n",
    "        video_url, video_name = get_urls(s3_client, bucket_name, prefix, key)\n",
    "        link_html = f'<h3><a href=\\\"{video_url[0]}\\\" target=\\'blank\\'>{video_name[0]}</a></h3><br>'\n",
    "        links_html += link_html\n",
    "    video_list_output.value = links_html\n",
    "\n",
    "\n",
    "search_button.on_click(update_video_list)\n",
    "\n",
    "\n",
    "layout = VBox([search_bar, search_button, video_list_output])\n",
    "\n",
    "display(layout)"
   ]
  },
  {
   "cell_type": "code",
   "execution_count": null,
   "metadata": {},
   "outputs": [],
   "source": []
  }
 ],
 "metadata": {
  "instance_type": "ml.t3.medium",
  "kernelspec": {
   "display_name": "conda_python3",
   "language": "python",
   "name": "conda_python3"
  },
  "language_info": {
   "codemirror_mode": {
    "name": "ipython",
    "version": 3
   },
   "file_extension": ".py",
   "mimetype": "text/x-python",
   "name": "python",
   "nbconvert_exporter": "python",
   "pygments_lexer": "ipython3",
   "version": "3.10.13"
  },
  "toc": {
   "base_numbering": 1,
   "nav_menu": {},
   "number_sections": true,
   "sideBar": true,
   "skip_h1_title": false,
   "title_cell": "Table of Contents",
   "title_sidebar": "Contents",
   "toc_cell": false,
   "toc_position": {},
   "toc_section_display": true,
   "toc_window_display": false
  },
  "vscode": {
   "interpreter": {
    "hash": "b71a13339a0be9489ff337af97259fe0ed71e682663adc836bae31ac651d564e"
   }
  }
 },
 "nbformat": 4,
 "nbformat_minor": 4
}
